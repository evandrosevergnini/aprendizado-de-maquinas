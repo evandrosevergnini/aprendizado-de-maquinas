{
 "cells": [
  {
   "cell_type": "markdown",
   "id": "3d5181fb-d1e8-4968-8fc8-bc7e7b8cd29c",
   "metadata": {},
   "source": [
    "**Atividade Avaliativa: Teste de Hipótese, Regressão Linear e ANOVA**\n",
    "\n",
    "**Prof. Dr. Jefferson O. Andrade**  \n",
    "**Pós-graduação em Desenvolvimento de Aplicações Inteligentes**  \n",
    "**Estatística para Aprendizado de Máquina — Aula 05**  "
   ]
  },
  {
   "cell_type": "markdown",
   "id": "9b8fa0bf-ec87-4f53-90c3-c64e8e97a8b1",
   "metadata": {},
   "source": [
    "Neste exercício, você aplicará técnicas abordadas nas aulas anteriores. O objetivo é testar seu entendimento sobre testes de hipótese, regressão linear e ANOVA. O resultado final deste exercício deve ser submetido na forma de um notebook Jupyter.\n",
    "\n",
    "**Instruções Gerais:**  \n",
    "\n",
    "- Garanta que você tenha instalado todas as bibliotecas necessárias para realizar este exercício.\n",
    "- Use comentários sempre que achar necessário para explicar seu código.\n",
    "- Após concluir, exporte seu notebook como `.ipynb` e submeta no AVA.\n",
    "\n",
    "**Critérios de Avaliação:**\n",
    "\n",
    "1. **Corretude do Código**: Seu código deve ser livre de erros e realizar as tarefas conforme solicitado.\n",
    "2. **Clareza e Organização**: Seu notebook deve ser apresentado de maneira clara, bem estruturada e com comentários relevantes.\n",
    "3. **Interpretação dos Resultados**: Além de realizar análises, esperamos que você interprete os resultados obtidos, fornecendo insights e conclusões pertinentes.\n",
    "\n",
    "**Dica**: Lembre-se sempre de consultar a documentação ou os materiais das aulas caso tenha dúvidas. Boa sorte e bom trabalho!"
   ]
  },
  {
   "cell_type": "markdown",
   "id": "fde7d14d-947d-47f7-865f-3fdd7cfbe54e",
   "metadata": {},
   "source": [
    "## Parte 1: Teste de Hipótese (7 pontos)\n",
    "\n",
    "Nesta primeira parte, você trabalhará com o conjunto de dados do seaborn chamado `tips`. Ele contém informações sobre as gorjetas dadas a garçons por diferentes clientes, considerando vários atributos.\n",
    "\n",
    "**Tarefas**:\n",
    "\n",
    "1. Importe as bibliotecas necessárias.\n",
    "2. Carregue o conjunto de dados `tips` do seaborn.\n",
    "3. Realize um teste de hipótese para verificar se a média da gorjeta dada por fumantes é diferente da média da gorjeta dada por não fumantes.\n",
    "4. Interprete os resultados do teste.\n"
   ]
  },
  {
   "cell_type": "code",
   "execution_count": null,
   "id": "e4536d51-983b-478d-813b-695ead66d210",
   "metadata": {},
   "outputs": [],
   "source": [
    "# Crie as células com a sua solução da parte 1 aqui."
   ]
  },
  {
   "cell_type": "markdown",
   "id": "61a1d4ed-40e5-479e-9ca0-1d44079ba5e1",
   "metadata": {},
   "source": [
    "---"
   ]
  },
  {
   "cell_type": "markdown",
   "id": "1d058346-3e03-4593-9be1-f9a5c15b8ffa",
   "metadata": {},
   "source": [
    "## Parte 2: Regressão Linear (7 pontos)\n",
    "\n",
    "Continuaremos usando o conjunto de dados `tips`.\n",
    "\n",
    "**Tarefas**:\n",
    "\n",
    "1. Ajuste um modelo de regressão linear simples para prever a `tip` (gorjeta) usando o `total_bill` (valor total da conta) como variável preditora.\n",
    "2. Avalie e interprete os coeficientes do modelo.\n",
    "3. Ajuste um modelo de regressão linear múltipla considerando `total_bill` e `size` (tamanho da mesa) como variáveis preditoras.\n",
    "4. Compare e discuta os resultados dos dois modelos ajustados.\n"
   ]
  },
  {
   "cell_type": "code",
   "execution_count": null,
   "id": "e93d4caa-36fc-4633-992c-685edd453070",
   "metadata": {},
   "outputs": [],
   "source": [
    "# Crie as células com a sua solução da parte 1 aqui."
   ]
  },
  {
   "cell_type": "markdown",
   "id": "70e41fe3-0631-4f0b-bba9-b303cc2d9e2e",
   "metadata": {},
   "source": [
    "---"
   ]
  },
  {
   "cell_type": "markdown",
   "id": "7da0fd11-168f-4ef7-9bd8-dbe731e5f7ce",
   "metadata": {
    "tags": []
   },
   "source": [
    "## Parte 3: ANOVA (6 pontos)\n",
    "\n",
    "Nesta seção, você investigará as diferenças nas médias de gorjetas com base no dia da semana.\n",
    "\n",
    "**Tarefas**:\n",
    "\n",
    "1. Importe as ferramentas necessárias para realizar a ANOVA.\n",
    "2. Verifique se há diferenças significativas na média de gorjetas entre os diferentes dias da semana (`day`).\n",
    "3. Interprete os resultados, incluindo os valores de SSB, SSW, F-value e p-value.\n",
    "4. Dê conclusões baseadas nos resultados da ANOVA.\n"
   ]
  },
  {
   "cell_type": "code",
   "execution_count": null,
   "id": "47cc16f9-80f5-4f20-8e4a-6e3c4090eb72",
   "metadata": {},
   "outputs": [],
   "source": [
    "# Crie as células com a sua solução da parte 1 aqui."
   ]
  },
  {
   "cell_type": "markdown",
   "id": "7b032226-529d-4a7a-87da-e709033d31f5",
   "metadata": {},
   "source": [
    "---"
   ]
  },
  {
   "cell_type": "code",
   "execution_count": null,
   "id": "903e3e02-e135-4641-887e-2d0f65b87cfa",
   "metadata": {},
   "outputs": [],
   "source": []
  }
 ],
 "metadata": {
  "kernelspec": {
   "display_name": "Python 3 (ipykernel)",
   "language": "python",
   "name": "python3"
  },
  "language_info": {
   "codemirror_mode": {
    "name": "ipython",
    "version": 3
   },
   "file_extension": ".py",
   "mimetype": "text/x-python",
   "name": "python",
   "nbconvert_exporter": "python",
   "pygments_lexer": "ipython3",
   "version": "3.9.13"
  }
 },
 "nbformat": 4,
 "nbformat_minor": 5
}
