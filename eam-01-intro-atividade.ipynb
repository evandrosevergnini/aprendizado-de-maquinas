{
 "cells": [
  {
   "cell_type": "markdown",
   "id": "4e0cd109-ad9d-45c2-9f4d-8ad48d3f4c6e",
   "metadata": {},
   "source": [
    "# Apresentação do Plano de Ensino e Introdução &mdash; Atividade Prática\n",
    "\n",
    "**Prof. Dr. Jefferson O. Andrade**  \n",
    "**Pós-graduação em Desenvolvimento de Aplicações Inteligentes**  \n",
    "**Estatística para Aprendizado de Máquina &mdash; Aula 01**"
   ]
  },
  {
   "cell_type": "markdown",
   "id": "321ab1c7-d4d9-4e1b-929e-353560856fa7",
   "metadata": {},
   "source": [
    "**Nome:** Evandro Canal Severgnini\n",
    "**Matrícula:** 20231devai0149"
   ]
  },
  {
   "cell_type": "code",
   "execution_count": null,
   "id": "e7d16b73-cc4e-4ffb-9f7c-11f165c36b2a",
   "metadata": {},
   "outputs": [],
   "source": []
  },
  {
   "cell_type": "markdown",
   "id": "0ecafec6-7a9e-4ed1-9955-5f2c233c4fa4",
   "metadata": {},
   "source": [
    "## Introdução à Atividade\n",
    "\n",
    "Nesta atividade, vamos explorar um conjunto de dados usando a biblioteca pandas e criar um relatório básico com observações e perguntas para futura investigação."
   ]
  },
  {
   "cell_type": "markdown",
   "id": "c705469e-ea59-453b-b8e4-7ec535fd1cf3",
   "metadata": {},
   "source": [
    "## Objetivos\n",
    "\n",
    "- Familiarizar-se com a biblioteca pandas para manipulação de dados\n",
    "- Aprender a realizar análises exploratórias de dados básicas\n",
    "- Formular perguntas que possam ser respondidas posteriormente por técnicas de aprendizado de máquinas"
   ]
  },
  {
   "cell_type": "markdown",
   "id": "b26a154f-af95-4b9f-8dec-de310c977e00",
   "metadata": {},
   "source": [
    "## Conjunto de Dados\n",
    "\n",
    "Para esta atividade, vamos usar o conjunto de dados 'Iris'. Este é um conjunto de dados famoso que contém medidas de 150 flores Iris de três espécies diferentes."
   ]
  },
  {
   "cell_type": "code",
   "execution_count": 2,
   "id": "22ca7c66-e719-4f0b-8305-a63b5f057bdc",
   "metadata": {},
   "outputs": [
    {
     "ename": "ModuleNotFoundError",
     "evalue": "No module named 'pandas'",
     "output_type": "error",
     "traceback": [
      "\u001b[1;31m---------------------------------------------------------------------------\u001b[0m",
      "\u001b[1;31mModuleNotFoundError\u001b[0m                       Traceback (most recent call last)",
      "Cell \u001b[1;32mIn[2], line 2\u001b[0m\n\u001b[0;32m      1\u001b[0m \u001b[38;5;66;03m# Importando as bibliotecas necessárias\u001b[39;00m\n\u001b[1;32m----> 2\u001b[0m \u001b[38;5;28;01mimport\u001b[39;00m\u001b[38;5;250m \u001b[39m\u001b[38;5;21;01mpandas\u001b[39;00m\u001b[38;5;250m \u001b[39m\u001b[38;5;28;01mas\u001b[39;00m\u001b[38;5;250m \u001b[39m\u001b[38;5;21;01mpd\u001b[39;00m\n\u001b[0;32m      3\u001b[0m \u001b[38;5;28;01mimport\u001b[39;00m\u001b[38;5;250m \u001b[39m\u001b[38;5;21;01mmatplotlib\u001b[39;00m\u001b[38;5;21;01m.\u001b[39;00m\u001b[38;5;21;01mpyplot\u001b[39;00m\u001b[38;5;250m \u001b[39m\u001b[38;5;28;01mas\u001b[39;00m\u001b[38;5;250m \u001b[39m\u001b[38;5;21;01mplt\u001b[39;00m\n\u001b[0;32m      4\u001b[0m \u001b[38;5;28;01mfrom\u001b[39;00m\u001b[38;5;250m \u001b[39m\u001b[38;5;21;01msklearn\u001b[39;00m\u001b[38;5;21;01m.\u001b[39;00m\u001b[38;5;21;01mdatasets\u001b[39;00m\u001b[38;5;250m \u001b[39m\u001b[38;5;28;01mimport\u001b[39;00m load_iris\n",
      "\u001b[1;31mModuleNotFoundError\u001b[0m: No module named 'pandas'"
     ]
    }
   ],
   "source": [
    "# Importando as bibliotecas necessárias\n",
    "import pandas as pd\n",
    "import matplotlib.pyplot as plt\n",
    "from sklearn.datasets import load_iris\n",
    "\n",
    "# Carregando o conjunto de dados\n",
    "iris = load_iris()\n",
    "df = pd.DataFrame(data=iris.data, columns=iris.feature_names)\n",
    "\n",
    "# Adicionando a coluna alvo\n",
    "df['species'] = iris.target\n",
    "\n",
    "# Mostrando as primeiras linhas do DataFrame\n",
    "df.head()"
   ]
  },
  {
   "cell_type": "markdown",
   "id": "0801f96e",
   "metadata": {},
   "source": []
  },
  {
   "cell_type": "markdown",
   "id": "360f57c7-37fa-4326-99bf-5989f822776a",
   "metadata": {},
   "source": [
    "## Explorando o Conjunto de Dados\n",
    "\n",
    "Agora que temos nosso conjunto de dados carregado em um DataFrame, podemos começar a explorá-lo. "
   ]
  },
  {
   "cell_type": "code",
   "execution_count": null,
   "id": "1d998d8b-3bcc-4dab-99fe-5a92a5053009",
   "metadata": {},
   "outputs": [],
   "source": [
    "# Informações gerais sobre o conjunto de dados\n",
    "df.info()\n",
    "\n",
    "# Resumo estatístico das características\n",
    "df.describe()\n",
    "\n",
    "# Contagem de valores para a espécie\n",
    "df['species'].value_counts()"
   ]
  },
  {
   "cell_type": "markdown",
   "id": "3b8729d2-2d1d-4f9e-b86e-3a8ac1f0ce4b",
   "metadata": {},
   "source": [
    "## Visualização dos Dados\n",
    "\n",
    "A visualização é uma parte essencial da análise exploratória de dados. Vamos criar alguns gráficos básicos para entender melhor nossos dados."
   ]
  },
  {
   "cell_type": "code",
   "execution_count": null,
   "id": "a359b15b-d99f-41b2-ad0c-d9bad82561ea",
   "metadata": {},
   "outputs": [],
   "source": [
    "# Histograma de cada característica\n",
    "df.hist(figsize=(10, 8))\n",
    "plt.tight_layout()  # Ajusta o layout para que os gráficos não se sobreponham\n",
    "plt.show()\n",
    "\n",
    "# Gráfico de dispersão entre comprimento e largura da pétala\n",
    "plt.scatter(df['petal length (cm)'], df['petal width (cm)'], c=df['species'])\n",
    "plt.xlabel('Petal Length (cm)')\n",
    "plt.ylabel('Petal Width (cm)')\n",
    "plt.show()"
   ]
  },
  {
   "cell_type": "markdown",
   "id": "2f839805-ae93-4577-bf2c-82b28661073d",
   "metadata": {},
   "source": [
    "## Perguntas para Investigação Futura\n",
    "\n",
    "Com base na exploração inicial do conjunto de dados, que perguntas podemos formular para investigações futuras? Lembre-se de que estas perguntas não precisam ter respostas agora. O objetivo é formular perguntas que possam ser interessantes para responder usando técnicas de aprendizado de máquinas.\n",
    "\n",
    "Aqui estão alguns exemplos de perguntas que poderíamos fazer:\n",
    "\n",
    "1. Podemos prever a espécie de uma flor Iris com base em suas medidas?\n",
    "2. Quais características são mais informativas para prever a espécie de uma flor?\n",
    "3. Existe uma relação entre o comprimento e a largura da pétala e da sépala?\n",
    "\n",
    "Agora, é a sua vez! Explore o conjunto de dados e registre suas perguntas e observações."
   ]
  },
  {
   "cell_type": "markdown",
   "id": "040f81b3-4233-4ca8-944d-0fd7619db9f2",
   "metadata": {},
   "source": [
    "### Observações\n",
    "\n",
    "...\n"
   ]
  },
  {
   "cell_type": "markdown",
   "id": "99088e34-0ab3-4f4a-ab8b-7d3a02aeb842",
   "metadata": {},
   "source": [
    "### Perguntas:\n",
    "\n",
    "...\n"
   ]
  },
  {
   "cell_type": "markdown",
   "id": "6550383f-b715-4ce8-b260-f8cc51448d01",
   "metadata": {},
   "source": [
    "Lembre-se, a melhor maneira de aprender é fazer. Não tenha medo de experimentar e tentar coisas novas. Boa sorte!"
   ]
  }
 ],
 "metadata": {
  "kernelspec": {
   "display_name": "Python 3",
   "language": "python",
   "name": "python3"
  },
  "language_info": {
   "codemirror_mode": {
    "name": "ipython",
    "version": 3
   },
   "file_extension": ".py",
   "mimetype": "text/x-python",
   "name": "python",
   "nbconvert_exporter": "python",
   "pygments_lexer": "ipython3",
   "version": "3.13.1"
  }
 },
 "nbformat": 4,
 "nbformat_minor": 5
}
