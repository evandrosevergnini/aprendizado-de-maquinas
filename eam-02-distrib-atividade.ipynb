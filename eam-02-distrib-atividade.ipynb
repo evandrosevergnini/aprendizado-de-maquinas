{
 "cells": [
  {
   "cell_type": "markdown",
   "id": "8acda25a-3eda-4c30-9b0a-89120989ee0b",
   "metadata": {},
   "source": [
    "# Distribuição de Probabilidade &mdash; Atividade Prática\n",
    "\n",
    "**Prof. Dr. Jefferson O. Andrade**  \n",
    "**Pós-graduação em Desenvolvimento de Aplicações Inteligentes**  \n",
    "**Estatística para Aprendizado de Máquina — Aula 02**  "
   ]
  },
  {
   "cell_type": "markdown",
   "id": "c53a02d3-dbbd-48c6-8e2f-06127b274aba",
   "metadata": {},
   "source": [
    "**Nome:** «seu nome»  \n",
    "**Matrícula:** «sua matrícula»"
   ]
  },
  {
   "cell_type": "markdown",
   "id": "d53b656a-3175-4b74-913d-20160269ae9f",
   "metadata": {},
   "source": [
    "## Introdução à atividade\n",
    "\n",
    "Nesta atividade, vamos explorar diferentes distribuições de probabilidade. Usaremos as bibliotecas numpy e scipy para gerar os dados, e matplotlib e seaborn para visualizar os resultados.\n",
    "\n",
    "Vamos começar importando as bibliotecas necessárias:"
   ]
  },
  {
   "cell_type": "code",
   "execution_count": null,
   "id": "39bc9015-58ea-4a7e-8cb9-a07ee332d8b7",
   "metadata": {},
   "outputs": [],
   "source": [
    "import numpy as np\n",
    "import scipy.stats as stats\n",
    "import matplotlib.pyplot as plt\n",
    "import seaborn as sns"
   ]
  },
  {
   "cell_type": "markdown",
   "id": "eb73b997-e9d2-4a0b-8112-3616cef3815d",
   "metadata": {},
   "source": [
    "## Distribuição Normal\n",
    "\n",
    "Vamos começar gerando dados para uma distribuição normal, que é uma distribuição de probabilidade contínua. A distribuição normal é parametrizada pela média (mu) e o desvio padrão (sigma). Vamos definir mu=0 e sigma=1."
   ]
  },
  {
   "cell_type": "code",
   "execution_count": null,
   "id": "52ae860e-460a-423c-b4c2-36e05cab3ade",
   "metadata": {},
   "outputs": [],
   "source": [
    "mu, sigma = 0, 1\n",
    "normal_dist = np.random.normal(mu, sigma, 1000)\n",
    "sns.histplot(normal_dist, kde=True, color='blue')\n",
    "plt.title('Distribuição Normal')\n",
    "plt.show()"
   ]
  },
  {
   "cell_type": "markdown",
   "id": "2934f8fb-05b0-4d92-a5f8-cabf50fa1fd3",
   "metadata": {},
   "source": [
    "## Distribuição Binomial\n",
    "\n",
    "Agora vamos gerar dados para uma distribuição binomial, que é uma distribuição de probabilidade discreta. Vamos definir n (número de tentativas) como 10 e p (probabilidade de sucesso) como 0.5."
   ]
  },
  {
   "cell_type": "code",
   "execution_count": null,
   "id": "a8044b51-46de-4163-97af-8c168c5b73d0",
   "metadata": {},
   "outputs": [],
   "source": [
    "n, p = 10, 0.5\n",
    "binomial_dist = np.random.binomial(n, p, 1000)\n",
    "sns.histplot(binomial_dist, kde=False, color='green')\n",
    "plt.title('Distribuição Binomial')\n",
    "plt.show()"
   ]
  },
  {
   "cell_type": "markdown",
   "id": "e400abfc-b9bb-42e3-9dd4-352ed14d4072",
   "metadata": {},
   "source": [
    "## Distribuição de Poisson\n",
    "\n",
    "Finalmente, vamos gerar dados para uma distribuição de Poisson, que também é uma distribuição de probabilidade discreta. Vamos definir lambda (taxa de ocorrência dos eventos) como 3."
   ]
  },
  {
   "cell_type": "code",
   "execution_count": null,
   "id": "0e7718fe-6a48-4d1c-bf78-2b020c318430",
   "metadata": {},
   "outputs": [],
   "source": [
    "lam = 3\n",
    "poisson_dist = np.random.poisson(lam, 1000)\n",
    "sns.histplot(poisson_dist, kde=False, color='red')\n",
    "plt.title('Distribuição de Poisson')\n",
    "plt.show()"
   ]
  },
  {
   "cell_type": "markdown",
   "id": "d75fbb6a-33b7-48dc-a5e7-f1bd0c660cc4",
   "metadata": {},
   "source": [
    "## Acompanhamento da atividade\n",
    "\n",
    "Agora que geramos e visualizamos diferentes distribuições de probabilidade, experimentem alterar os parâmetros dessas distribuições e vejam como eles afetam a forma da distribuição.\n",
    "\n",
    "Além disso, pense em diferentes cenários do mundo real que podem ser modelados por essas distribuições. Por exemplo, a distribuição binomial pode ser usada para modelar o número de caras obtidas ao lançar uma moeda várias vezes. Que outros cenários vocês conseguem pensar?"
   ]
  },
  {
   "cell_type": "markdown",
   "id": "5dd4ff6c-f47d-4de4-a24f-75bcf5a9fbfc",
   "metadata": {},
   "source": [
    "## Obervações"
   ]
  },
  {
   "cell_type": "markdown",
   "id": "656c3e60-153f-4fc8-ac0e-c765b874677f",
   "metadata": {},
   "source": [
    "..."
   ]
  }
 ],
 "metadata": {
  "kernelspec": {
   "display_name": "Python 3 (ipykernel)",
   "language": "python",
   "name": "python3"
  },
  "language_info": {
   "codemirror_mode": {
    "name": "ipython",
    "version": 3
   },
   "file_extension": ".py",
   "mimetype": "text/x-python",
   "name": "python",
   "nbconvert_exporter": "python",
   "pygments_lexer": "ipython3",
   "version": "3.9.13"
  }
 },
 "nbformat": 4,
 "nbformat_minor": 5
}
