{
  "cells": [
    {
      "cell_type": "markdown",
      "id": "3d5181fb-d1e8-4968-8fc8-bc7e7b8cd29c",
      "metadata": {
        "id": "3d5181fb-d1e8-4968-8fc8-bc7e7b8cd29c"
      },
      "source": [
        "**Atividade Avaliativa: Teste de Hipótese, Regressão Linear e ANOVA**\n",
        "\n",
        "**Prof. Dr. Jefferson O. Andrade**  \n",
        "**Pós-graduação em Desenvolvimento de Aplicações Inteligentes**  \n",
        "**Estatística para Aprendizado de Máquina — Aula 05**  \n",
        "**Evandro Canal Severgnini**\n",
        "**20231devai0149**"
      ]
    },
    {
      "cell_type": "markdown",
      "id": "9b8fa0bf-ec87-4f53-90c3-c64e8e97a8b1",
      "metadata": {
        "id": "9b8fa0bf-ec87-4f53-90c3-c64e8e97a8b1"
      },
      "source": [
        "Neste exercício, você aplicará técnicas abordadas nas aulas anteriores. O objetivo é testar seu entendimento sobre testes de hipótese, regressão linear e ANOVA. O resultado final deste exercício deve ser submetido na forma de um notebook Jupyter.\n",
        "\n",
        "**Instruções Gerais:**  \n",
        "\n",
        "- Garanta que você tenha instalado todas as bibliotecas necessárias para realizar este exercício.\n",
        "- Use comentários sempre que achar necessário para explicar seu código.\n",
        "- Após concluir, exporte seu notebook como `.ipynb` e submeta no AVA.\n",
        "\n",
        "**Critérios de Avaliação:**\n",
        "\n",
        "1. **Corretude do Código**: Seu código deve ser livre de erros e realizar as tarefas conforme solicitado.\n",
        "2. **Clareza e Organização**: Seu notebook deve ser apresentado de maneira clara, bem estruturada e com comentários relevantes.\n",
        "3. **Interpretação dos Resultados**: Além de realizar análises, esperamos que você interprete os resultados obtidos, fornecendo insights e conclusões pertinentes.\n",
        "\n",
        "**Dica**: Lembre-se sempre de consultar a documentação ou os materiais das aulas caso tenha dúvidas. Boa sorte e bom trabalho!"
      ]
    },
    {
      "cell_type": "markdown",
      "id": "fde7d14d-947d-47f7-865f-3fdd7cfbe54e",
      "metadata": {
        "id": "fde7d14d-947d-47f7-865f-3fdd7cfbe54e"
      },
      "source": [
        "## Parte 1: Teste de Hipótese (7 pontos)\n",
        "\n",
        "Nesta primeira parte, você trabalhará com o conjunto de dados do seaborn chamado `tips`. Ele contém informações sobre as gorjetas dadas a garçons por diferentes clientes, considerando vários atributos.\n",
        "\n",
        "**Tarefas**:\n",
        "\n",
        "1. Importe as bibliotecas necessárias.\n",
        "2. Carregue o conjunto de dados `tips` do seaborn.\n",
        "3. Realize um teste de hipótese para verificar se a média da gorjeta dada por fumantes é diferente da média da gorjeta dada por não fumantes.\n",
        "4. Interprete os resultados do teste.\n"
      ]
    },
    {
      "cell_type": "code",
      "execution_count": 2,
      "id": "e4536d51-983b-478d-813b-695ead66d210",
      "metadata": {
        "id": "e4536d51-983b-478d-813b-695ead66d210",
        "outputId": "fded886c-dd0d-4380-b783-5f2a54e8508a",
        "colab": {
          "base_uri": "https://localhost:8080/"
        }
      },
      "outputs": [
        {
          "output_type": "stream",
          "name": "stdout",
          "text": [
            "   total_bill   tip     sex smoker  day    time  size\n",
            "0       16.99  1.01  Female     No  Sun  Dinner     2\n",
            "1       10.34  1.66    Male     No  Sun  Dinner     3\n",
            "2       21.01  3.50    Male     No  Sun  Dinner     3\n",
            "3       23.68  3.31    Male     No  Sun  Dinner     2\n",
            "4       24.59  3.61  Female     No  Sun  Dinner     4\n",
            "Tamanho total da amostra: 244\n",
            "Estatística do teste t: 0.0922\n",
            "Valor p: 0.9266\n",
            "alpha: 0.05 - p_value: 0.9266\n",
            "Falhamos em rejeitar a hipótese nula: Não existe evidência suficiente para afirmar que há diferença significativa entre as médias.\n"
          ]
        }
      ],
      "source": [
        "# Crie as células com a sua solução da parte 1 aqui.\n",
        "# Importando as bibliotecas necessárias\n",
        "import pandas as pd\n",
        "import seaborn as sns\n",
        "from scipy.stats import ttest_ind\n",
        "\n",
        "# Carregando o conjunto de dados `tips`\n",
        "tips = sns.load_dataset('tips')\n",
        "\n",
        "# Explorando os dados para entender sua estrutura\n",
        "print(tips.head())\n",
        "\n",
        "\n",
        "# tamanho total da amostra\n",
        "print(f\"Tamanho total da amostra: {tips.shape[0]}\")\n",
        "\n",
        "# Separando os dados em dois grupos: fumantes e não fumantes\n",
        "fumantes = tips[tips['smoker'] == 'Yes']['tip']\n",
        "nao_fumantes = tips[tips['smoker'] == 'No']['tip']\n",
        "\n",
        "# Realizando o teste de hipótese (teste t para duas amostras independentes)\n",
        "stat, p_value = ttest_ind(fumantes, nao_fumantes)\n",
        "\n",
        "# Exibindo os resultados do teste\n",
        "print(f\"Estatística do teste t: {stat:.4f}\")\n",
        "print(f\"Valor p: {p_value:.4f}\")\n",
        "\n",
        "# Interpretando os resultados\n",
        "alpha = 0.05\n",
        "print(f\"alpha: {alpha} - p_value: {p_value:.4f}\")\n",
        "\n",
        "\n",
        "if p_value < alpha:\n",
        "    print(\"Rejeitamos a hipótese nula: Existe uma diferença significativa entre a média da gorjeta de fumantes e não fumantes.\")\n",
        "else:\n",
        "    print(\"Falhamos em rejeitar a hipótese nula: Não existe evidência suficiente para afirmar que há diferença significativa entre as médias.\")\n"
      ]
    },
    {
      "cell_type": "markdown",
      "id": "61a1d4ed-40e5-479e-9ca0-1d44079ba5e1",
      "metadata": {
        "id": "61a1d4ed-40e5-479e-9ca0-1d44079ba5e1"
      },
      "source": [
        "---"
      ]
    },
    {
      "cell_type": "markdown",
      "id": "1d058346-3e03-4593-9be1-f9a5c15b8ffa",
      "metadata": {
        "id": "1d058346-3e03-4593-9be1-f9a5c15b8ffa"
      },
      "source": [
        "## Parte 2: Regressão Linear (7 pontos)\n",
        "\n",
        "Continuaremos usando o conjunto de dados `tips`.\n",
        "\n",
        "**Tarefas**:\n",
        "\n",
        "1. Ajuste um modelo de regressão linear simples para prever a `tip` (gorjeta) usando o `total_bill` (valor total da conta) como variável preditora.\n",
        "2. Avalie e interprete os coeficientes do modelo.\n",
        "3. Ajuste um modelo de regressão linear múltipla considerando `total_bill` e `size` (tamanho da mesa) como variáveis preditoras.\n",
        "4. Compare e discuta os resultados dos dois modelos ajustados.\n"
      ]
    },
    {
      "cell_type": "code",
      "execution_count": 4,
      "id": "e93d4caa-36fc-4633-992c-685edd453070",
      "metadata": {
        "id": "e93d4caa-36fc-4633-992c-685edd453070",
        "outputId": "fa9c5a71-597e-434c-8234-538064c7c1f5",
        "colab": {
          "base_uri": "https://localhost:8080/"
        }
      },
      "outputs": [
        {
          "output_type": "stream",
          "name": "stdout",
          "text": [
            "Modelo de Regressão Linear Simples:\n",
            "\n",
            "                            OLS Regression Results                            \n",
            "==============================================================================\n",
            "Dep. Variable:                    tip   R-squared:                       0.457\n",
            "Model:                            OLS   Adj. R-squared:                  0.454\n",
            "Method:                 Least Squares   F-statistic:                     203.4\n",
            "Date:                Fri, 17 Jan 2025   Prob (F-statistic):           6.69e-34\n",
            "Time:                        18:13:03   Log-Likelihood:                -350.54\n",
            "No. Observations:                 244   AIC:                             705.1\n",
            "Df Residuals:                     242   BIC:                             712.1\n",
            "Df Model:                           1                                         \n",
            "Covariance Type:            nonrobust                                         \n",
            "==============================================================================\n",
            "                 coef    std err          t      P>|t|      [0.025      0.975]\n",
            "------------------------------------------------------------------------------\n",
            "const          0.9203      0.160      5.761      0.000       0.606       1.235\n",
            "total_bill     0.1050      0.007     14.260      0.000       0.091       0.120\n",
            "==============================================================================\n",
            "Omnibus:                       20.185   Durbin-Watson:                   2.151\n",
            "Prob(Omnibus):                  0.000   Jarque-Bera (JB):               37.750\n",
            "Skew:                           0.443   Prob(JB):                     6.35e-09\n",
            "Kurtosis:                       4.711   Cond. No.                         53.0\n",
            "==============================================================================\n",
            "\n",
            "Notes:\n",
            "[1] Standard Errors assume that the covariance matrix of the errors is correctly specified.\n",
            "\n",
            "Modelo de Regressão Linear Múltipla:\n",
            "\n",
            "                            OLS Regression Results                            \n",
            "==============================================================================\n",
            "Dep. Variable:                    tip   R-squared:                       0.468\n",
            "Model:                            OLS   Adj. R-squared:                  0.463\n",
            "Method:                 Least Squares   F-statistic:                     105.9\n",
            "Date:                Fri, 17 Jan 2025   Prob (F-statistic):           9.67e-34\n",
            "Time:                        18:13:03   Log-Likelihood:                -347.99\n",
            "No. Observations:                 244   AIC:                             702.0\n",
            "Df Residuals:                     241   BIC:                             712.5\n",
            "Df Model:                           2                                         \n",
            "Covariance Type:            nonrobust                                         \n",
            "==============================================================================\n",
            "                 coef    std err          t      P>|t|      [0.025      0.975]\n",
            "------------------------------------------------------------------------------\n",
            "const          0.6689      0.194      3.455      0.001       0.288       1.050\n",
            "total_bill     0.0927      0.009     10.172      0.000       0.075       0.111\n",
            "size           0.1926      0.085      2.258      0.025       0.025       0.361\n",
            "==============================================================================\n",
            "Omnibus:                       24.753   Durbin-Watson:                   2.100\n",
            "Prob(Omnibus):                  0.000   Jarque-Bera (JB):               46.169\n",
            "Skew:                           0.545   Prob(JB):                     9.43e-11\n",
            "Kurtosis:                       4.831   Cond. No.                         67.6\n",
            "==============================================================================\n",
            "\n",
            "Notes:\n",
            "[1] Standard Errors assume that the covariance matrix of the errors is correctly specified.\n",
            "\n",
            "Comparação dos Modelos:\n",
            "\n",
            "Modelo Simples: R² = 0.4566, MSE = 1.0360\n",
            "Modelo Múltiplo: R² = 0.4679, MSE = 1.0146\n",
            "O modelo múltiplo apresenta melhor capacidade de explicação (R² maior) em relação ao modelo simples.\n",
            "\n",
            "Explicação:\n",
            "\n",
            "1. Ajustamos um modelo de regressão linear simples para prever o valor da gorjeta ('tip') com base no valor total da conta ('total_bill').\n",
            "   - O coeficiente da variável preditora mostra o quanto a gorjeta aumenta, em média, para cada unidade adicional no valor total da conta.\n",
            "\n",
            "2. Em seguida, ajustamos um modelo de regressão linear múltipla considerando também o tamanho da mesa ('size') como uma segunda variável preditora.\n",
            "   - Nesse caso, analisamos como tanto o valor total da conta quanto o tamanho da mesa influenciam o valor da gorjeta.\n",
            "\n",
            "3. Finalmente, comparamos os dois modelos com base no R² (quanto do comportamento da variável resposta é explicado pelo modelo) e no MSE (erro médio quadrático, que mede a precisão das previsões).\n",
            "   - Um R² maior indica que o modelo explica melhor os dados.\n",
            "   - Um MSE menor indica que as previsões são mais precisas.\n",
            "\n"
          ]
        }
      ],
      "source": [
        "# Importando as bibliotecas necessárias\n",
        "import statsmodels.api as sm\n",
        "from sklearn.metrics import mean_squared_error, r2_score\n",
        "\n",
        "# Separando as variáveis independentes e dependentes\n",
        "variavel_simples = tips[['total_bill']]  # Variável preditora para o modelo simples\n",
        "variaveis_multiplas = tips[['total_bill', 'size']]  # Variáveis preditoras para o modelo múltiplo\n",
        "gorjetas = tips['tip']  # Variável resposta (gorjetas)\n",
        "\n",
        "# Adicionando uma constante aos modelos (necessário para statsmodels)\n",
        "variavel_simples_constante = sm.add_constant(variavel_simples)\n",
        "variaveis_multiplas_constante = sm.add_constant(variaveis_multiplas)\n",
        "\n",
        "# Ajustando o modelo de regressão linear simples\n",
        "modelo_simples = sm.OLS(gorjetas, variavel_simples_constante).fit()\n",
        "print(\"Modelo de Regressão Linear Simples:\\n\")\n",
        "print(modelo_simples.summary())\n",
        "\n",
        "# Ajustando o modelo de regressão linear múltipla\n",
        "modelo_multiplo = sm.OLS(gorjetas, variaveis_multiplas_constante).fit()\n",
        "print(\"\\nModelo de Regressão Linear Múltipla:\\n\")\n",
        "print(modelo_multiplo.summary())\n",
        "\n",
        "# Comparação dos modelos\n",
        "predicao_simples = modelo_simples.predict(variavel_simples_constante)\n",
        "predicao_multipla = modelo_multiplo.predict(variaveis_multiplas_constante)\n",
        "\n",
        "mse_simples = mean_squared_error(gorjetas, predicao_simples)\n",
        "mse_multiplo = mean_squared_error(gorjetas, predicao_multipla)\n",
        "\n",
        "r2_simples = r2_score(gorjetas, predicao_simples)\n",
        "r2_multiplo = r2_score(gorjetas, predicao_multipla)\n",
        "\n",
        "# Resultados comparativos\n",
        "print(\"\\nComparação dos Modelos:\\n\")\n",
        "print(f\"Modelo Simples: R² = {r2_simples:.4f}, MSE = {mse_simples:.4f}\")\n",
        "print(f\"Modelo Múltiplo: R² = {r2_multiplo:.4f}, MSE = {mse_multiplo:.4f}\")\n",
        "\n",
        "if r2_multiplo > r2_simples:\n",
        "    print(\"O modelo múltiplo apresenta melhor capacidade de explicação (R² maior) em relação ao modelo simples.\")\n",
        "else:\n",
        "    print(\"O modelo simples é suficiente para explicar a relação entre 'total_bill' e 'tip'.\")\n",
        "\n",
        "# Explicação final\n",
        "print(\"\\nExplicação:\")\n",
        "print(\"\"\"\n",
        "1. Ajustamos um modelo de regressão linear simples para prever o valor da gorjeta ('tip') com base no valor total da conta ('total_bill').\n",
        "   - O coeficiente da variável preditora mostra o quanto a gorjeta aumenta, em média, para cada unidade adicional no valor total da conta.\n",
        "\n",
        "2. Em seguida, ajustamos um modelo de regressão linear múltipla considerando também o tamanho da mesa ('size') como uma segunda variável preditora.\n",
        "   - Nesse caso, analisamos como tanto o valor total da conta quanto o tamanho da mesa influenciam o valor da gorjeta.\n",
        "\n",
        "3. Finalmente, comparamos os dois modelos com base no R² (quanto do comportamento da variável resposta é explicado pelo modelo) e no MSE (erro médio quadrático, que mede a precisão das previsões).\n",
        "   - Um R² maior indica que o modelo explica melhor os dados.\n",
        "   - Um MSE menor indica que as previsões são mais precisas.\n",
        "\"\"\")\n",
        "\n"
      ]
    },
    {
      "cell_type": "markdown",
      "source": [
        "**O valor da conta é o principal fator que influencia as gorjetas. Quando a conta aumenta, as gorjetas também aumentam.**\n",
        "\n",
        "**O tamanho da mesa também influencia, mas em menor grau. Mesas maiores tendem a dar gorjetas maiores, o que faz sentido porque mais pessoas na mesa geralmente resultam em contas maiores e gorjetas maiores.**\n",
        "\n",
        "**O modelo com duas variáveis (conta e tamanho da mesa) é um pouco melhor, porque:\n",
        "Ele explica mais sobre como as gorjetas funcionam (46,8% contra 45,7%).\n",
        "Ele também faz previsões mais precisas.**\n"
      ],
      "metadata": {
        "id": "PddsWlL1eIYM"
      },
      "id": "PddsWlL1eIYM"
    },
    {
      "cell_type": "markdown",
      "id": "70e41fe3-0631-4f0b-bba9-b303cc2d9e2e",
      "metadata": {
        "id": "70e41fe3-0631-4f0b-bba9-b303cc2d9e2e"
      },
      "source": [
        "---"
      ]
    },
    {
      "cell_type": "markdown",
      "id": "7da0fd11-168f-4ef7-9bd8-dbe731e5f7ce",
      "metadata": {
        "tags": [],
        "id": "7da0fd11-168f-4ef7-9bd8-dbe731e5f7ce"
      },
      "source": [
        "## Parte 3: ANOVA (6 pontos)\n",
        "\n",
        "Nesta seção, você investigará as diferenças nas médias de gorjetas com base no dia da semana.\n",
        "\n",
        "**Tarefas**:\n",
        "\n",
        "1. Importe as ferramentas necessárias para realizar a ANOVA.\n",
        "2. Verifique se há diferenças significativas na média de gorjetas entre os diferentes dias da semana (`day`).\n",
        "3. Interprete os resultados, incluindo os valores de SSB, SSW, F-value e p-value.\n",
        "4. Dê conclusões baseadas nos resultados da ANOVA.\n"
      ]
    },
    {
      "cell_type": "code",
      "execution_count": 7,
      "id": "47cc16f9-80f5-4f20-8e4a-6e3c4090eb72",
      "metadata": {
        "id": "47cc16f9-80f5-4f20-8e4a-6e3c4090eb72",
        "outputId": "660a8697-b4d2-45a2-db29-900b9afc2030",
        "colab": {
          "base_uri": "https://localhost:8080/"
        }
      },
      "outputs": [
        {
          "output_type": "stream",
          "name": "stdout",
          "text": [
            "F-statistic: 1.6724\n",
            "P-value: 0.1736\n",
            "SSB (Soma dos Quadrados entre os Grupos): 9.5259\n",
            "SSW (Soma dos Quadrados dentro dos Grupos): 455.6866\n",
            "Falhamos em rejeitar a hipótese nula: Não há evidências suficientes para afirmar que as médias de gorjetas são diferentes entre os dias da semana.\n"
          ]
        }
      ],
      "source": [
        "# Importando as bibliotecas necessárias\n",
        "import pandas as pd\n",
        "import seaborn as sns\n",
        "from scipy.stats import f_oneway\n",
        "\n",
        "# Carregando o conjunto de dados tips\n",
        "tips = sns.load_dataset('tips')\n",
        "\n",
        "# Separando os valores de gorjeta por dia da semana\n",
        "gorjetas_por_dia = [tips[tips['day'] == dia]['tip'] for dia in tips['day'].unique()]\n",
        "\n",
        "# Realizando a ANOVA\n",
        "f_stat, p_value = f_oneway(*gorjetas_por_dia)\n",
        "\n",
        "# Exibindo os resultados da ANOVA\n",
        "print(f\"F-statistic: {f_stat:.4f}\")\n",
        "print(f\"P-value: {p_value:.4f}\")\n",
        "\n",
        "# Calculando as médias gerais e por grupo\n",
        "media_geral = tips['tip'].mean()\n",
        "medias_por_dia = tips.groupby('day', observed=False)['tip'].mean()\n",
        "\n",
        "# Calculando o SSB (Soma dos Quadrados entre os Grupos)\n",
        "ssb = sum(len(tips[tips['day'] == dia]) * (media - media_geral)**2 for dia, media in medias_por_dia.items())\n",
        "\n",
        "# Calculando o SSW (Soma dos Quadrados dentro dos Grupos)\n",
        "ssw = sum(((tips[tips['day'] == dia]['tip'] - media)**2).sum() for dia, media in medias_por_dia.items())\n",
        "\n",
        "# Exibindo os valores de SSB e SSW\n",
        "print(f\"SSB (Soma dos Quadrados entre os Grupos): {ssb:.4f}\")\n",
        "print(f\"SSW (Soma dos Quadrados dentro dos Grupos): {ssw:.4f}\")\n",
        "\n",
        "# Interpretando os resultados\n",
        "alpha = 0.05\n",
        "if p_value < alpha:\n",
        "    print(\"Rejeitamos a hipótese nula: Há diferenças significativas nas médias de gorjetas entre os dias da semana.\")\n",
        "else:\n",
        "    print(\"Falhamos em rejeitar a hipótese nula: Não há evidências suficientes para afirmar que as médias de gorjetas são diferentes entre os dias da semana.\")\n"
      ]
    },
    {
      "cell_type": "markdown",
      "id": "7b032226-529d-4a7a-87da-e709033d31f5",
      "metadata": {
        "id": "7b032226-529d-4a7a-87da-e709033d31f5"
      },
      "source": [
        "---"
      ]
    },
    {
      "cell_type": "markdown",
      "source": [],
      "metadata": {
        "id": "hAHRWgxugeTb"
      },
      "id": "hAHRWgxugeTb"
    },
    {
      "cell_type": "markdown",
      "source": [
        "**O que queríamos descobrir?**\n",
        "\n",
        "Queríamos saber se os clientes deixam gorjetas diferentes dependendo do dia da semana. Para isso, usamos um teste chamado ANOVA (Análise de Variância), que nos ajuda a comparar as médias das gorjetas em diferentes grupos (no caso, os dias da semana).\n",
        "\n",
        "**Quais eram as hipóteses?**\n",
        "Hipótese nula (H₀): As médias de gorjetas são iguais para todos os dias da semana.\n",
        "Hipótese alternativa (H₁): Pelo menos um dos dias tem uma média de gorjetas diferente.\n",
        "\n",
        "**O que encontramos?**\n",
        "\n",
        "F-statistic (1.6724):\n",
        "\n",
        "Esse número nos ajuda a medir quanto as médias dos grupos (dias) são diferentes em comparação à variação entre as pessoas dentro de cada grupo.\n",
        "Um valor pequeno, como o que encontramos, indica que as diferenças entre os dias não são grandes.\n",
        "\n",
        "P-value (0.1736):\n",
        "\n",
        "Este valor nos diz se as diferenças entre os dias da semana são significativas.\n",
        "Como o valor-p é maior que 0.05, não temos evidências suficientes para dizer que as médias de gorjetas são diferentes entre os dias.\n",
        "\n",
        "SSB (Soma dos Quadrados entre os Grupos):\n",
        "\n",
        "Representa a variação entre os dias. Foi de 9.5259, o que é relativamente baixo.\n",
        "Isso indica que as médias dos dias são bem parecidas.\n",
        "\n",
        "SSW (Soma dos Quadrados dentro dos Grupos):\n",
        "\n",
        "Representa a variação dentro de cada dia (diferenças nas gorjetas dadas por pessoas no mesmo dia). Foi de 455.6866, que é muito maior que a variação entre os dias.\n",
        "Isso mostra que a maior parte da diferença vem das pessoas individualmente, e não do dia da semana.\n",
        "\n",
        "**Qual é a conclusão?**\n",
        "Não há diferenças significativas entre as médias de gorjetas nos dias da semana.\n",
        "O dia da semana não parece influenciar o valor das gorjetas.\n",
        "Portanto, outros fatores, como o valor da conta (total_bill) ou o tamanho da mesa (size), podem ser mais importantes para entender como as gorjetas variam."
      ],
      "metadata": {
        "id": "2FABG8tMg-Ws"
      },
      "id": "2FABG8tMg-Ws"
    }
  ],
  "metadata": {
    "kernelspec": {
      "display_name": "Python 3 (ipykernel)",
      "language": "python",
      "name": "python3"
    },
    "language_info": {
      "codemirror_mode": {
        "name": "ipython",
        "version": 3
      },
      "file_extension": ".py",
      "mimetype": "text/x-python",
      "name": "python",
      "nbconvert_exporter": "python",
      "pygments_lexer": "ipython3",
      "version": "3.9.13"
    },
    "colab": {
      "provenance": []
    }
  },
  "nbformat": 4,
  "nbformat_minor": 5
}