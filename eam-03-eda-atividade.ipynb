{
 "cells": [
  {
   "cell_type": "markdown",
   "id": "db4d1ad8-54bf-4cef-acae-a000bba39332",
   "metadata": {},
   "source": [
    "# Estatística Descritiva e Análise Exploratória de Dados &mdash; Atividade Prática\n",
    "\n",
    "**Prof. Dr. Jefferson O. Andrade**  \n",
    "**Pós-graduação em Desenvolvimento de Aplicações Inteligentes**  \n",
    "**Estatística para Aprendizado de Máquina — Aula 03**  "
   ]
  },
  {
   "cell_type": "markdown",
   "id": "59cbe3e7-fc53-4a25-82d8-7ea34918bbd1",
   "metadata": {},
   "source": [
    "**Nome:** «seu nome»  \n",
    "**Matrícula:** «sua matrícula»"
   ]
  },
  {
   "cell_type": "markdown",
   "id": "030bbf76-73e6-4cf3-8639-22de81cab9f2",
   "metadata": {},
   "source": [
    "## Introdução e Preparação\n",
    "\n",
    "Nesta atividade, mergulharemos fundo no conjunto de dados sobre preços de imóveis na cidade de Boston, com o objetivo de compreender as características que influenciam os preços das casas e explorar relações complexas entre as variáveis. A análise será dividida em etapas estruturadas para facilitar a compreensão e extração de insights dos dados.\n",
    "\n",
    "**Objetivo da Atividade:** Realizar uma análise exploratória aprofundada, abordando estatísticas descritivas, visualizações complexas e relações multivariadas, preparando o terreno para futuros modelos preditivos."
   ]
  },
  {
   "cell_type": "markdown",
   "id": "005d4d8e-8744-466e-bf82-eddcaa0090fa",
   "metadata": {},
   "source": [
    "## Carregando e Inspecionando o Conjunto de Dados\n",
    "\n",
    "Vamos começar carregando e fazendo uma inspeção inicial do conjunto de dados."
   ]
  },
  {
   "cell_type": "code",
   "execution_count": null,
   "id": "447e606d-96dc-4178-a7e2-19ca3df38431",
   "metadata": {},
   "outputs": [],
   "source": [
    "# Importando as bibliotecas necessárias\n",
    "import pandas as pd\n",
    "from sklearn.datasets import load_boston\n",
    "\n",
    "# Carregando o conjunto de dados\n",
    "boston_data = load_boston()\n",
    "df_boston = pd.DataFrame(boston_data.data, columns=boston_data.feature_names)\n",
    "df_boston['PRICE'] = boston_data.target\n",
    "\n",
    "# Visualizando as primeiras linhas e informações gerais do DataFrame\n",
    "display(df_boston.head())\n",
    "df_boston.info()\n"
   ]
  },
  {
   "cell_type": "markdown",
   "id": "af6ff0fa-d43c-4bd2-8fda-941134059635",
   "metadata": {},
   "source": [
    "## Análise Estatística Básica\n",
    "\n",
    "1. **Resumo Estatístico:** Forneça estatísticas descritivas para cada variável (média, mediana, desvio padrão, min, max).\n",
    "\n",
    "    ```python\n",
    "    display(df_boston.describe())\n",
    "    ```\n",
    "\n",
    "2. **Distribuição dos Preços:** Utilize um histograma para visualizar a distribuição dos preços dos imóveis.\n"
   ]
  },
  {
   "cell_type": "code",
   "execution_count": null,
   "id": "411724b4-5467-4ca0-ad55-9fcd9a9a0f49",
   "metadata": {},
   "outputs": [],
   "source": [
    "# Escreva sua resposta aqui.\n",
    "# ...\n"
   ]
  },
  {
   "cell_type": "markdown",
   "id": "6c252a8c-45ca-463f-a990-9822db410fc0",
   "metadata": {},
   "source": [
    "## **Análise de Correlação (30 minutos)**\n",
    "\n",
    "1. **Correlação com o Preço:** Identifique e liste as características com maior correlação (positiva e negativa) em relação ao preço.\n",
    "\n",
    "2. **Mapa de Calor de Correlação:** Visualize a matriz de correlação entre todas as variáveis usando um heatmap.\n",
    "\n",
    "    ```python\n",
    "    import seaborn as sns\n",
    "    import matplotlib.pyplot as plt\n",
    "\n",
    "    plt.figure(figsize=(12, 8))\n",
    "    sns.heatmap(df_boston.corr(), annot=True, cmap=\"coolwarm\")\n",
    "    plt.title(\"Correlation Heatmap\")\n",
    "    plt.show()\n",
    "    ```\n"
   ]
  },
  {
   "cell_type": "code",
   "execution_count": 1,
   "id": "6bf51e41-2e29-4ad5-9f16-76e5ff31c91b",
   "metadata": {},
   "outputs": [],
   "source": [
    "# Escreva sua resposta aqui\n",
    "# ...\n"
   ]
  },
  {
   "cell_type": "markdown",
   "id": "70589bc8-f283-494b-8218-6f7362bcac09",
   "metadata": {},
   "source": [
    "## Visualizações Avançadas\n",
    "\n",
    "1. **Relações Bivariadas:** Utilize scatterplots para visualizar a relação entre algumas das variáveis mais correlacionadas com o preço. Esta etapa pode ajudar a identificar tendências ou outliers.\n",
    "\n",
    "2. **Boxplots para Categorias:** Suponha que queiramos entender como o preço varia com a proximidade ao rio Charles (variável `CHAS`). Um boxplot pode ajudar a comparar a distribuição de preços para imóveis próximos e distantes do rio.\n",
    "\n",
    "3. **Outras visualizações:** Utilize outras visualizações que você considerar úteis para analisar os dados e indique que *insights* essas visuzlizações trouxeram.\n"
   ]
  },
  {
   "cell_type": "code",
   "execution_count": 2,
   "id": "a54ba502-9e67-48f8-a7b3-0cd13e826647",
   "metadata": {},
   "outputs": [],
   "source": [
    "# Escreva sua resposta aqui\n",
    "# ...\n"
   ]
  },
  {
   "cell_type": "markdown",
   "id": "c9dce885-5673-491b-946e-944413f88684",
   "metadata": {},
   "source": [
    "## Discussão e Conclusões\n",
    "\n",
    "1. **Padrões e Insights:** Com base nas visualizações e análises, discuta padrões identificados e insights extraídos dos dados.\n",
    "\n",
    "2. **Limitações dos Dados:** Toda análise é limitada pela qualidade e abrangência dos dados. Discuta possíveis limitações deste conjunto de dados e como elas podem afetar as conclusões.\n",
    "\n",
    "3. **Próximos Passos:** Sugira possíveis próximas etapas, seja aprofundar a análise em áreas específicas, seja preparar os dados para modelagem de aprendizado de máquina.\n"
   ]
  },
  {
   "cell_type": "markdown",
   "id": "53a4083f-fbf3-4c68-9c4f-ae128b7bd862",
   "metadata": {},
   "source": [
    "**Respostas:**  \n",
    "\n",
    "«Escreva suas respostas aqui.»\n"
   ]
  },
  {
   "cell_type": "markdown",
   "id": "1ef0b704-96b4-4b97-a030-c8a50ba0b53f",
   "metadata": {},
   "source": [
    "**Nota aos Alunos:** A análise exploratória é um processo contínuo e iterativo. Ao se deparar com questões ou insights interessantes, não hesite em explorá-los mais a fundo. A habilidade de fazer perguntas pertinentes e buscar suas respostas é fundamental em ciência de dados. Boa exploração!"
   ]
  },
  {
   "cell_type": "code",
   "execution_count": null,
   "id": "a7e6de59-417a-44c7-8503-61a8d5051e69",
   "metadata": {},
   "outputs": [],
   "source": []
  }
 ],
 "metadata": {
  "kernelspec": {
   "display_name": "Python 3 (ipykernel)",
   "language": "python",
   "name": "python3"
  },
  "language_info": {
   "codemirror_mode": {
    "name": "ipython",
    "version": 3
   },
   "file_extension": ".py",
   "mimetype": "text/x-python",
   "name": "python",
   "nbconvert_exporter": "python",
   "pygments_lexer": "ipython3",
   "version": "3.9.13"
  }
 },
 "nbformat": 4,
 "nbformat_minor": 5
}
