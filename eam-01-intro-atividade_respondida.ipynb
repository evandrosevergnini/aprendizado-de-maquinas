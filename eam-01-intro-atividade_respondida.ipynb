{
  "cells": [
    {
      "cell_type": "markdown",
      "id": "4e0cd109-ad9d-45c2-9f4d-8ad48d3f4c6e",
      "metadata": {
        "id": "4e0cd109-ad9d-45c2-9f4d-8ad48d3f4c6e"
      },
      "source": [
        "# Apresentação do Plano de Ensino e Introdução &mdash; Atividade Prática\n",
        "\n",
        "**Prof. Dr. Jefferson O. Andrade**  \n",
        "**Pós-graduação em Desenvolvimento de Aplicações Inteligentes**  \n",
        "**Estatística para Aprendizado de Máquina &mdash; Aula 01**"
      ]
    },
    {
      "cell_type": "markdown",
      "id": "321ab1c7-d4d9-4e1b-929e-353560856fa7",
      "metadata": {
        "id": "321ab1c7-d4d9-4e1b-929e-353560856fa7"
      },
      "source": [
        "**Nome:** Evandro Canal Severgnini\n",
        "**Matrícula:** 20231devai0149"
      ]
    },
    {
      "cell_type": "code",
      "execution_count": null,
      "id": "e7d16b73-cc4e-4ffb-9f7c-11f165c36b2a",
      "metadata": {
        "id": "e7d16b73-cc4e-4ffb-9f7c-11f165c36b2a"
      },
      "outputs": [],
      "source": []
    },
    {
      "cell_type": "markdown",
      "id": "0ecafec6-7a9e-4ed1-9955-5f2c233c4fa4",
      "metadata": {
        "id": "0ecafec6-7a9e-4ed1-9955-5f2c233c4fa4"
      },
      "source": [
        "## Introdução à Atividade\n",
        "\n",
        "Nesta atividade, vamos explorar um conjunto de dados usando a biblioteca pandas e criar um relatório básico com observações e perguntas para futura investigação."
      ]
    },
    {
      "cell_type": "markdown",
      "id": "c705469e-ea59-453b-b8e4-7ec535fd1cf3",
      "metadata": {
        "id": "c705469e-ea59-453b-b8e4-7ec535fd1cf3"
      },
      "source": [
        "## Objetivos\n",
        "\n",
        "- Familiarizar-se com a biblioteca pandas para manipulação de dados\n",
        "- Aprender a realizar análises exploratórias de dados básicas\n",
        "- Formular perguntas que possam ser respondidas posteriormente por técnicas de aprendizado de máquinas"
      ]
    },
    {
      "cell_type": "markdown",
      "id": "b26a154f-af95-4b9f-8dec-de310c977e00",
      "metadata": {
        "id": "b26a154f-af95-4b9f-8dec-de310c977e00"
      },
      "source": [
        "## Conjunto de Dados\n",
        "\n",
        "Para esta atividade, vamos usar o conjunto de dados 'Iris'. Este é um conjunto de dados famoso que contém medidas de 150 flores Iris de três espécies diferentes."
      ]
    },
    {
      "cell_type": "code",
      "execution_count": 1,
      "id": "22ca7c66-e719-4f0b-8305-a63b5f057bdc",
      "metadata": {
        "id": "22ca7c66-e719-4f0b-8305-a63b5f057bdc",
        "outputId": "b97cc950-a7e9-4c10-9265-0e033c72151a",
        "colab": {
          "base_uri": "https://localhost:8080/",
          "height": 206
        }
      },
      "outputs": [
        {
          "output_type": "execute_result",
          "data": {
            "text/plain": [
              "   sepal length (cm)  sepal width (cm)  petal length (cm)  petal width (cm)  \\\n",
              "0                5.1               3.5                1.4               0.2   \n",
              "1                4.9               3.0                1.4               0.2   \n",
              "2                4.7               3.2                1.3               0.2   \n",
              "3                4.6               3.1                1.5               0.2   \n",
              "4                5.0               3.6                1.4               0.2   \n",
              "\n",
              "   species  \n",
              "0        0  \n",
              "1        0  \n",
              "2        0  \n",
              "3        0  \n",
              "4        0  "
            ],
            "text/html": [
              "\n",
              "  <div id=\"df-83ffdb7b-a686-4416-98fe-0cca71f68cce\" class=\"colab-df-container\">\n",
              "    <div>\n",
              "<style scoped>\n",
              "    .dataframe tbody tr th:only-of-type {\n",
              "        vertical-align: middle;\n",
              "    }\n",
              "\n",
              "    .dataframe tbody tr th {\n",
              "        vertical-align: top;\n",
              "    }\n",
              "\n",
              "    .dataframe thead th {\n",
              "        text-align: right;\n",
              "    }\n",
              "</style>\n",
              "<table border=\"1\" class=\"dataframe\">\n",
              "  <thead>\n",
              "    <tr style=\"text-align: right;\">\n",
              "      <th></th>\n",
              "      <th>sepal length (cm)</th>\n",
              "      <th>sepal width (cm)</th>\n",
              "      <th>petal length (cm)</th>\n",
              "      <th>petal width (cm)</th>\n",
              "      <th>species</th>\n",
              "    </tr>\n",
              "  </thead>\n",
              "  <tbody>\n",
              "    <tr>\n",
              "      <th>0</th>\n",
              "      <td>5.1</td>\n",
              "      <td>3.5</td>\n",
              "      <td>1.4</td>\n",
              "      <td>0.2</td>\n",
              "      <td>0</td>\n",
              "    </tr>\n",
              "    <tr>\n",
              "      <th>1</th>\n",
              "      <td>4.9</td>\n",
              "      <td>3.0</td>\n",
              "      <td>1.4</td>\n",
              "      <td>0.2</td>\n",
              "      <td>0</td>\n",
              "    </tr>\n",
              "    <tr>\n",
              "      <th>2</th>\n",
              "      <td>4.7</td>\n",
              "      <td>3.2</td>\n",
              "      <td>1.3</td>\n",
              "      <td>0.2</td>\n",
              "      <td>0</td>\n",
              "    </tr>\n",
              "    <tr>\n",
              "      <th>3</th>\n",
              "      <td>4.6</td>\n",
              "      <td>3.1</td>\n",
              "      <td>1.5</td>\n",
              "      <td>0.2</td>\n",
              "      <td>0</td>\n",
              "    </tr>\n",
              "    <tr>\n",
              "      <th>4</th>\n",
              "      <td>5.0</td>\n",
              "      <td>3.6</td>\n",
              "      <td>1.4</td>\n",
              "      <td>0.2</td>\n",
              "      <td>0</td>\n",
              "    </tr>\n",
              "  </tbody>\n",
              "</table>\n",
              "</div>\n",
              "    <div class=\"colab-df-buttons\">\n",
              "\n",
              "  <div class=\"colab-df-container\">\n",
              "    <button class=\"colab-df-convert\" onclick=\"convertToInteractive('df-83ffdb7b-a686-4416-98fe-0cca71f68cce')\"\n",
              "            title=\"Convert this dataframe to an interactive table.\"\n",
              "            style=\"display:none;\">\n",
              "\n",
              "  <svg xmlns=\"http://www.w3.org/2000/svg\" height=\"24px\" viewBox=\"0 -960 960 960\">\n",
              "    <path d=\"M120-120v-720h720v720H120Zm60-500h600v-160H180v160Zm220 220h160v-160H400v160Zm0 220h160v-160H400v160ZM180-400h160v-160H180v160Zm440 0h160v-160H620v160ZM180-180h160v-160H180v160Zm440 0h160v-160H620v160Z\"/>\n",
              "  </svg>\n",
              "    </button>\n",
              "\n",
              "  <style>\n",
              "    .colab-df-container {\n",
              "      display:flex;\n",
              "      gap: 12px;\n",
              "    }\n",
              "\n",
              "    .colab-df-convert {\n",
              "      background-color: #E8F0FE;\n",
              "      border: none;\n",
              "      border-radius: 50%;\n",
              "      cursor: pointer;\n",
              "      display: none;\n",
              "      fill: #1967D2;\n",
              "      height: 32px;\n",
              "      padding: 0 0 0 0;\n",
              "      width: 32px;\n",
              "    }\n",
              "\n",
              "    .colab-df-convert:hover {\n",
              "      background-color: #E2EBFA;\n",
              "      box-shadow: 0px 1px 2px rgba(60, 64, 67, 0.3), 0px 1px 3px 1px rgba(60, 64, 67, 0.15);\n",
              "      fill: #174EA6;\n",
              "    }\n",
              "\n",
              "    .colab-df-buttons div {\n",
              "      margin-bottom: 4px;\n",
              "    }\n",
              "\n",
              "    [theme=dark] .colab-df-convert {\n",
              "      background-color: #3B4455;\n",
              "      fill: #D2E3FC;\n",
              "    }\n",
              "\n",
              "    [theme=dark] .colab-df-convert:hover {\n",
              "      background-color: #434B5C;\n",
              "      box-shadow: 0px 1px 3px 1px rgba(0, 0, 0, 0.15);\n",
              "      filter: drop-shadow(0px 1px 2px rgba(0, 0, 0, 0.3));\n",
              "      fill: #FFFFFF;\n",
              "    }\n",
              "  </style>\n",
              "\n",
              "    <script>\n",
              "      const buttonEl =\n",
              "        document.querySelector('#df-83ffdb7b-a686-4416-98fe-0cca71f68cce button.colab-df-convert');\n",
              "      buttonEl.style.display =\n",
              "        google.colab.kernel.accessAllowed ? 'block' : 'none';\n",
              "\n",
              "      async function convertToInteractive(key) {\n",
              "        const element = document.querySelector('#df-83ffdb7b-a686-4416-98fe-0cca71f68cce');\n",
              "        const dataTable =\n",
              "          await google.colab.kernel.invokeFunction('convertToInteractive',\n",
              "                                                    [key], {});\n",
              "        if (!dataTable) return;\n",
              "\n",
              "        const docLinkHtml = 'Like what you see? Visit the ' +\n",
              "          '<a target=\"_blank\" href=https://colab.research.google.com/notebooks/data_table.ipynb>data table notebook</a>'\n",
              "          + ' to learn more about interactive tables.';\n",
              "        element.innerHTML = '';\n",
              "        dataTable['output_type'] = 'display_data';\n",
              "        await google.colab.output.renderOutput(dataTable, element);\n",
              "        const docLink = document.createElement('div');\n",
              "        docLink.innerHTML = docLinkHtml;\n",
              "        element.appendChild(docLink);\n",
              "      }\n",
              "    </script>\n",
              "  </div>\n",
              "\n",
              "\n",
              "<div id=\"df-298956ca-5773-4d4e-af5b-4639e5c89b26\">\n",
              "  <button class=\"colab-df-quickchart\" onclick=\"quickchart('df-298956ca-5773-4d4e-af5b-4639e5c89b26')\"\n",
              "            title=\"Suggest charts\"\n",
              "            style=\"display:none;\">\n",
              "\n",
              "<svg xmlns=\"http://www.w3.org/2000/svg\" height=\"24px\"viewBox=\"0 0 24 24\"\n",
              "     width=\"24px\">\n",
              "    <g>\n",
              "        <path d=\"M19 3H5c-1.1 0-2 .9-2 2v14c0 1.1.9 2 2 2h14c1.1 0 2-.9 2-2V5c0-1.1-.9-2-2-2zM9 17H7v-7h2v7zm4 0h-2V7h2v10zm4 0h-2v-4h2v4z\"/>\n",
              "    </g>\n",
              "</svg>\n",
              "  </button>\n",
              "\n",
              "<style>\n",
              "  .colab-df-quickchart {\n",
              "      --bg-color: #E8F0FE;\n",
              "      --fill-color: #1967D2;\n",
              "      --hover-bg-color: #E2EBFA;\n",
              "      --hover-fill-color: #174EA6;\n",
              "      --disabled-fill-color: #AAA;\n",
              "      --disabled-bg-color: #DDD;\n",
              "  }\n",
              "\n",
              "  [theme=dark] .colab-df-quickchart {\n",
              "      --bg-color: #3B4455;\n",
              "      --fill-color: #D2E3FC;\n",
              "      --hover-bg-color: #434B5C;\n",
              "      --hover-fill-color: #FFFFFF;\n",
              "      --disabled-bg-color: #3B4455;\n",
              "      --disabled-fill-color: #666;\n",
              "  }\n",
              "\n",
              "  .colab-df-quickchart {\n",
              "    background-color: var(--bg-color);\n",
              "    border: none;\n",
              "    border-radius: 50%;\n",
              "    cursor: pointer;\n",
              "    display: none;\n",
              "    fill: var(--fill-color);\n",
              "    height: 32px;\n",
              "    padding: 0;\n",
              "    width: 32px;\n",
              "  }\n",
              "\n",
              "  .colab-df-quickchart:hover {\n",
              "    background-color: var(--hover-bg-color);\n",
              "    box-shadow: 0 1px 2px rgba(60, 64, 67, 0.3), 0 1px 3px 1px rgba(60, 64, 67, 0.15);\n",
              "    fill: var(--button-hover-fill-color);\n",
              "  }\n",
              "\n",
              "  .colab-df-quickchart-complete:disabled,\n",
              "  .colab-df-quickchart-complete:disabled:hover {\n",
              "    background-color: var(--disabled-bg-color);\n",
              "    fill: var(--disabled-fill-color);\n",
              "    box-shadow: none;\n",
              "  }\n",
              "\n",
              "  .colab-df-spinner {\n",
              "    border: 2px solid var(--fill-color);\n",
              "    border-color: transparent;\n",
              "    border-bottom-color: var(--fill-color);\n",
              "    animation:\n",
              "      spin 1s steps(1) infinite;\n",
              "  }\n",
              "\n",
              "  @keyframes spin {\n",
              "    0% {\n",
              "      border-color: transparent;\n",
              "      border-bottom-color: var(--fill-color);\n",
              "      border-left-color: var(--fill-color);\n",
              "    }\n",
              "    20% {\n",
              "      border-color: transparent;\n",
              "      border-left-color: var(--fill-color);\n",
              "      border-top-color: var(--fill-color);\n",
              "    }\n",
              "    30% {\n",
              "      border-color: transparent;\n",
              "      border-left-color: var(--fill-color);\n",
              "      border-top-color: var(--fill-color);\n",
              "      border-right-color: var(--fill-color);\n",
              "    }\n",
              "    40% {\n",
              "      border-color: transparent;\n",
              "      border-right-color: var(--fill-color);\n",
              "      border-top-color: var(--fill-color);\n",
              "    }\n",
              "    60% {\n",
              "      border-color: transparent;\n",
              "      border-right-color: var(--fill-color);\n",
              "    }\n",
              "    80% {\n",
              "      border-color: transparent;\n",
              "      border-right-color: var(--fill-color);\n",
              "      border-bottom-color: var(--fill-color);\n",
              "    }\n",
              "    90% {\n",
              "      border-color: transparent;\n",
              "      border-bottom-color: var(--fill-color);\n",
              "    }\n",
              "  }\n",
              "</style>\n",
              "\n",
              "  <script>\n",
              "    async function quickchart(key) {\n",
              "      const quickchartButtonEl =\n",
              "        document.querySelector('#' + key + ' button');\n",
              "      quickchartButtonEl.disabled = true;  // To prevent multiple clicks.\n",
              "      quickchartButtonEl.classList.add('colab-df-spinner');\n",
              "      try {\n",
              "        const charts = await google.colab.kernel.invokeFunction(\n",
              "            'suggestCharts', [key], {});\n",
              "      } catch (error) {\n",
              "        console.error('Error during call to suggestCharts:', error);\n",
              "      }\n",
              "      quickchartButtonEl.classList.remove('colab-df-spinner');\n",
              "      quickchartButtonEl.classList.add('colab-df-quickchart-complete');\n",
              "    }\n",
              "    (() => {\n",
              "      let quickchartButtonEl =\n",
              "        document.querySelector('#df-298956ca-5773-4d4e-af5b-4639e5c89b26 button');\n",
              "      quickchartButtonEl.style.display =\n",
              "        google.colab.kernel.accessAllowed ? 'block' : 'none';\n",
              "    })();\n",
              "  </script>\n",
              "</div>\n",
              "\n",
              "    </div>\n",
              "  </div>\n"
            ],
            "application/vnd.google.colaboratory.intrinsic+json": {
              "type": "dataframe",
              "variable_name": "df",
              "summary": "{\n  \"name\": \"df\",\n  \"rows\": 150,\n  \"fields\": [\n    {\n      \"column\": \"sepal length (cm)\",\n      \"properties\": {\n        \"dtype\": \"number\",\n        \"std\": 0.8280661279778629,\n        \"min\": 4.3,\n        \"max\": 7.9,\n        \"num_unique_values\": 35,\n        \"samples\": [\n          6.2,\n          4.5,\n          5.6\n        ],\n        \"semantic_type\": \"\",\n        \"description\": \"\"\n      }\n    },\n    {\n      \"column\": \"sepal width (cm)\",\n      \"properties\": {\n        \"dtype\": \"number\",\n        \"std\": 0.435866284936698,\n        \"min\": 2.0,\n        \"max\": 4.4,\n        \"num_unique_values\": 23,\n        \"samples\": [\n          2.3,\n          4.0,\n          3.5\n        ],\n        \"semantic_type\": \"\",\n        \"description\": \"\"\n      }\n    },\n    {\n      \"column\": \"petal length (cm)\",\n      \"properties\": {\n        \"dtype\": \"number\",\n        \"std\": 1.7652982332594667,\n        \"min\": 1.0,\n        \"max\": 6.9,\n        \"num_unique_values\": 43,\n        \"samples\": [\n          6.7,\n          3.8,\n          3.7\n        ],\n        \"semantic_type\": \"\",\n        \"description\": \"\"\n      }\n    },\n    {\n      \"column\": \"petal width (cm)\",\n      \"properties\": {\n        \"dtype\": \"number\",\n        \"std\": 0.7622376689603465,\n        \"min\": 0.1,\n        \"max\": 2.5,\n        \"num_unique_values\": 22,\n        \"samples\": [\n          0.2,\n          1.2,\n          1.3\n        ],\n        \"semantic_type\": \"\",\n        \"description\": \"\"\n      }\n    },\n    {\n      \"column\": \"species\",\n      \"properties\": {\n        \"dtype\": \"number\",\n        \"std\": 0,\n        \"min\": 0,\n        \"max\": 2,\n        \"num_unique_values\": 3,\n        \"samples\": [\n          0,\n          1,\n          2\n        ],\n        \"semantic_type\": \"\",\n        \"description\": \"\"\n      }\n    }\n  ]\n}"
            }
          },
          "metadata": {},
          "execution_count": 1
        }
      ],
      "source": [
        "# Importando as bibliotecas necessárias\n",
        "import pandas as pd\n",
        "import matplotlib.pyplot as plt\n",
        "from sklearn.datasets import load_iris\n",
        "\n",
        "# Carregando o conjunto de dados\n",
        "iris = load_iris()\n",
        "df = pd.DataFrame(data=iris.data, columns=iris.feature_names)\n",
        "\n",
        "# Adicionando a coluna alvo\n",
        "df['species'] = iris.target\n",
        "\n",
        "# Mostrando as primeiras linhas do DataFrame\n",
        "df.head()"
      ]
    },
    {
      "cell_type": "markdown",
      "id": "0801f96e",
      "metadata": {
        "id": "0801f96e"
      },
      "source": []
    },
    {
      "cell_type": "markdown",
      "id": "360f57c7-37fa-4326-99bf-5989f822776a",
      "metadata": {
        "id": "360f57c7-37fa-4326-99bf-5989f822776a"
      },
      "source": [
        "## Explorando o Conjunto de Dados\n",
        "\n",
        "Agora que temos nosso conjunto de dados carregado em um DataFrame, podemos começar a explorá-lo."
      ]
    },
    {
      "cell_type": "code",
      "execution_count": 2,
      "id": "1d998d8b-3bcc-4dab-99fe-5a92a5053009",
      "metadata": {
        "id": "1d998d8b-3bcc-4dab-99fe-5a92a5053009",
        "outputId": "ee26e79b-944a-4d7b-dc03-2f3439558f12",
        "colab": {
          "base_uri": "https://localhost:8080/",
          "height": 431
        }
      },
      "outputs": [
        {
          "output_type": "stream",
          "name": "stdout",
          "text": [
            "<class 'pandas.core.frame.DataFrame'>\n",
            "RangeIndex: 150 entries, 0 to 149\n",
            "Data columns (total 5 columns):\n",
            " #   Column             Non-Null Count  Dtype  \n",
            "---  ------             --------------  -----  \n",
            " 0   sepal length (cm)  150 non-null    float64\n",
            " 1   sepal width (cm)   150 non-null    float64\n",
            " 2   petal length (cm)  150 non-null    float64\n",
            " 3   petal width (cm)   150 non-null    float64\n",
            " 4   species            150 non-null    int64  \n",
            "dtypes: float64(4), int64(1)\n",
            "memory usage: 6.0 KB\n"
          ]
        },
        {
          "output_type": "execute_result",
          "data": {
            "text/plain": [
              "species\n",
              "0    50\n",
              "1    50\n",
              "2    50\n",
              "Name: count, dtype: int64"
            ],
            "text/html": [
              "<div>\n",
              "<style scoped>\n",
              "    .dataframe tbody tr th:only-of-type {\n",
              "        vertical-align: middle;\n",
              "    }\n",
              "\n",
              "    .dataframe tbody tr th {\n",
              "        vertical-align: top;\n",
              "    }\n",
              "\n",
              "    .dataframe thead th {\n",
              "        text-align: right;\n",
              "    }\n",
              "</style>\n",
              "<table border=\"1\" class=\"dataframe\">\n",
              "  <thead>\n",
              "    <tr style=\"text-align: right;\">\n",
              "      <th></th>\n",
              "      <th>count</th>\n",
              "    </tr>\n",
              "    <tr>\n",
              "      <th>species</th>\n",
              "      <th></th>\n",
              "    </tr>\n",
              "  </thead>\n",
              "  <tbody>\n",
              "    <tr>\n",
              "      <th>0</th>\n",
              "      <td>50</td>\n",
              "    </tr>\n",
              "    <tr>\n",
              "      <th>1</th>\n",
              "      <td>50</td>\n",
              "    </tr>\n",
              "    <tr>\n",
              "      <th>2</th>\n",
              "      <td>50</td>\n",
              "    </tr>\n",
              "  </tbody>\n",
              "</table>\n",
              "</div><br><label><b>dtype:</b> int64</label>"
            ]
          },
          "metadata": {},
          "execution_count": 2
        }
      ],
      "source": [
        "# Informações gerais sobre o conjunto de dados\n",
        "df.info()\n",
        "\n",
        "# Resumo estatístico das características\n",
        "df.describe()\n",
        "\n",
        "# Contagem de valores para a espécie\n",
        "df['species'].value_counts()"
      ]
    },
    {
      "cell_type": "markdown",
      "id": "3b8729d2-2d1d-4f9e-b86e-3a8ac1f0ce4b",
      "metadata": {
        "id": "3b8729d2-2d1d-4f9e-b86e-3a8ac1f0ce4b"
      },
      "source": [
        "## Visualização dos Dados\n",
        "\n",
        "A visualização é uma parte essencial da análise exploratória de dados. Vamos criar alguns gráficos básicos para entender melhor nossos dados."
      ]
    },
    {
      "cell_type": "code",
      "execution_count": 3,
      "id": "a359b15b-d99f-41b2-ad0c-d9bad82561ea",
      "metadata": {
        "id": "a359b15b-d99f-41b2-ad0c-d9bad82561ea",
        "outputId": "b5d45a00-9aa3-4949-fc93-5c2a4b68ae46",
        "colab": {
          "base_uri": "https://localhost:8080/",
          "height": 1000
        }
      },
      "outputs": [
        {
          "output_type": "display_data",
          "data": {
            "text/plain": [
              "<Figure size 1000x800 with 6 Axes>"
            ],
            "image/png": "[encoded data removed]"
          },
          "metadata": {}
        },
        {
          "output_type": "display_data",
          "data": {
            "text/plain": [
              "<Figure size 640x480 with 1 Axes>"
            ],
            "image/png": "[encoded data removed]"
          },
          "metadata": {}
        }
      ],
      "source": [
        "# Histograma de cada característica\n",
        "df.hist(figsize=(10, 8))\n",
        "plt.tight_layout()  # Ajusta o layout para que os gráficos não se sobreponham\n",
        "plt.show()\n",
        "\n",
        "# Gráfico de dispersão entre comprimento e largura da pétala\n",
        "plt.scatter(df['petal length (cm)'], df['petal width (cm)'], c=df['species'])\n",
        "plt.xlabel('Petal Length (cm)')\n",
        "plt.ylabel('Petal Width (cm)')\n",
        "plt.show()"
      ]
    },
    {
      "cell_type": "markdown",
      "id": "2f839805-ae93-4577-bf2c-82b28661073d",
      "metadata": {
        "id": "2f839805-ae93-4577-bf2c-82b28661073d"
      },
      "source": [
        "## Perguntas para Investigação Futura\n",
        "\n",
        "Com base na exploração inicial do conjunto de dados, que perguntas podemos formular para investigações futuras? Lembre-se de que estas perguntas não precisam ter respostas agora. O objetivo é formular perguntas que possam ser interessantes para responder usando técnicas de aprendizado de máquinas.\n",
        "\n",
        "Aqui estão alguns exemplos de perguntas que poderíamos fazer:\n",
        "\n",
        "1. Podemos prever a espécie de uma flor Iris com base em suas medidas?\n",
        "2. Quais características são mais informativas para prever a espécie de uma flor?\n",
        "3. Existe uma relação entre o comprimento e a largura da pétala e da sépala?\n",
        "\n",
        "Agora, é a sua vez! Explore o conjunto de dados e registre suas perguntas e observações."
      ]
    },
    {
      "cell_type": "markdown",
      "id": "040f81b3-4233-4ca8-944d-0fd7619db9f2",
      "metadata": {
        "id": "040f81b3-4233-4ca8-944d-0fd7619db9f2"
      },
      "source": [
        "### Observações\n",
        "\n",
        "\n",
        "\n",
        "* As pétalas parecem ser mais importantes para diferenciar as espécies do que as sépalas, porque apresentam variações mais claras.\n",
        "* Algumas espécies têm medidas bem diferentes, enquanto outras parecem um pouco mais próximas, o que pode dificultar a separação em alguns casos.\n",
        "* Todas as espécies têm o mesmo número de amostras (50), o que facilita a análise, já que nenhuma domina o conjunto de dados.\n",
        "* Há duas espécies cujas larguras de pétalas e sépalas são mais próximas, tornando a distinção entre elas por essas características mais difíceis.\n"
      ]
    },
    {
      "cell_type": "markdown",
      "id": "99088e34-0ab3-4f4a-ab8b-7d3a02aeb842",
      "metadata": {
        "id": "99088e34-0ab3-4f4a-ab8b-7d3a02aeb842"
      },
      "source": [
        "### Perguntas:\n",
        "\n",
        "1. O tamanho da sépala está relacionado ao tamanho da pétala (flores maiores têm sépalas e pétalas maiores)?\n",
        "2. Será que é fácil separar as espécies com base nessas medidas? Ou será que algumas espécies têm medidas muito parecidas e acabam se confundindo?\n",
        "3. Se não soubéssemos a qual espécie cada flor pertence, seria possível agrupá-las apenas olhando as medidas?\n",
        "4. Como podemos usar gráficos para entender melhor as diferenças entre as espécies? Será que isso nos ajuda a perceber padrões mais claros?\n",
        "5. Como as características das flores Iris podem ser usadas para prever sua duração de vida?\n",
        "6. Como as características da flores Iris podem indicar características do meio ambiente?\n"
      ]
    },
    {
      "cell_type": "markdown",
      "id": "6550383f-b715-4ce8-b260-f8cc51448d01",
      "metadata": {
        "id": "6550383f-b715-4ce8-b260-f8cc51448d01"
      },
      "source": [
        "Lembre-se, a melhor maneira de aprender é fazer. Não tenha medo de experimentar e tentar coisas novas. Boa sorte!"
      ]
    }
  ],
  "metadata": {
    "kernelspec": {
      "display_name": "Python 3",
      "language": "python",
      "name": "python3"
    },
    "language_info": {
      "codemirror_mode": {
        "name": "ipython",
        "version": 3
      },
      "file_extension": ".py",
      "mimetype": "text/x-python",
      "name": "python",
      "nbconvert_exporter": "python",
      "pygments_lexer": "ipython3",
      "version": "3.13.1"
    },
    "colab": {
      "provenance": []
    }
  },
  "nbformat": 4,
  "nbformat_minor": 5
}