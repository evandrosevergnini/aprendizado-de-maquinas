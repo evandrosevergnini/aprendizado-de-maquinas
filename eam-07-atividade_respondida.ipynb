{
 "cells": [
  {
   "cell_type": "markdown",
   "id": "7de4f5dd-e8ef-4aa8-af86-58360eac2fd7",
   "metadata": {},
   "source": [
    "**Atividade Avaliativa: Bootstrap e Reamostragem**\n",
    "\n",
    "**Prof. Dr. Jefferson O. Andrade**  \n",
    "**Pós-graduação em Desenvolvimento de Aplicações Inteligentes**  \n",
    "**Estatística para Aprendizado de Máquina — Aula 07**  "
   ]
  },
  {
   "cell_type": "markdown",
   "id": "f0b82951-bdbf-4ae0-a33f-d70c4d41840f",
   "metadata": {},
   "source": [
    "**Nome:** «insera seu nome aqui»  \n",
    "**Matrícula:** «insira sua matrícula»  "
   ]
  },
  {
   "cell_type": "markdown",
   "id": "9d299846-fccb-487b-84d1-b37ed97aa515",
   "metadata": {},
   "source": [
    "Neste exercício, você aplicará técnicas abordadas nas aulas anteriores. O objetivo é testar seu entendimento sobre **Bootstrap e Reamostragem**. O resultado final deste exercício deve ser submetido na forma de um notebook Jupyter.\n",
    "\n",
    "**Instruções Gerais:**  \n",
    "\n",
    "- Garanta que você tenha instalado todas as bibliotecas necessárias para realizar este exercício.\n",
    "- Use comentários sempre que achar necessário para explicar seu código.\n",
    "- Após concluir, exporte seu notebook como `.ipynb` e submeta no AVA.\n",
    "\n",
    "**Dica**: Lembre-se sempre de consultar a documentação ou os materiais das aulas caso tenha dúvidas. Boa sorte e bom trabalho!"
   ]
  },
  {
   "cell_type": "markdown",
   "id": "69171e6c-e86e-49ee-a3f7-069c94e4f485",
   "metadata": {},
   "source": [
    "# Introdução\n",
    "\n",
    "Nesta atividade avaliativa, você terá a oportunidade de aplicar seus conhecimentos sobre Bootstrap, uma técnica poderosa de reamostragem, para estimar a média e o intervalo de confiança de uma amostra de dados real. O objetivo principal é compreender como o Bootstrap pode ser usado para obter estimativas robustas em cenários de amostragem limitada."
   ]
  },
  {
   "cell_type": "markdown",
   "id": "c1c7ed0f-717f-4a27-9a1a-445811a73eb6",
   "metadata": {},
   "source": [
    "## Conjunto de Dados\n",
    "\n",
    "Vamos utilizar um conjunto de dados fictício que representa as notas de matemática de um grupo de estudantes em um exame. O conjunto de dados está disponível no arquivo \"notas.csv\". Cada linha representa a nota de um aluno.\n",
    "\n",
    "Aqui está o código Python para gerar e salvar esses dados:"
   ]
  },
  {
   "cell_type": "code",
   "execution_count": null,
   "id": "e8acd79c-da74-4209-83bd-b14b7fdda38b",
   "metadata": {},
   "outputs": [],
   "source": [
    "import pandas as pd\n",
    "import numpy as np\n",
    "\n",
    "# Definir uma semente aleatória para reproducibilidade\n",
    "np.random.seed(0)\n",
    "\n",
    "# Gerar 100 notas aleatórias entre 0 e 100\n",
    "notas = np.random.randint(0, 101, size=100)\n",
    "\n",
    "# Criar um DataFrame com as notas\n",
    "df = pd.DataFrame({'Notas': notas})\n",
    "\n",
    "# Salvar o DataFrame em um arquivo CSV\n",
    "df.to_csv('notas.csv', index=False)\n",
    "\n",
    "# Verificar as primeiras linhas do conjunto de dados\n",
    "df.head()\n"
   ]
  },
  {
   "cell_type": "markdown",
   "id": "d5f35efd-82e4-42b6-be6d-b51c84534d1d",
   "metadata": {},
   "source": [
    "Você deve começar carregando esse conjunto de dados usando a biblioteca pandas.\n",
    "\n",
    "```python\n",
    "import pandas as pd\n",
    "\n",
    "# Carregar os dados\n",
    "df = pd.read_csv('notas.csv')\n",
    "\n",
    "# Exibir as primeiras linhas do conjunto de dados\n",
    "df.head()\n",
    "```\n"
   ]
  },
  {
   "cell_type": "markdown",
   "id": "f3e890a5-0e97-4ec6-baf2-45d902d5ccc7",
   "metadata": {},
   "source": [
    "## Tarefa\n",
    "\n",
    "Sua tarefa consiste em seguir os passos abaixo:\n",
    "\n",
    "### Passo 1: Resampling com Bootstrap (3 pontos)\n",
    "\n",
    "1. Implemente uma função em Python para realizar o Bootstrap a partir da amostra de notas.\n",
    "2. Use essa função para criar 1.000 conjuntos de dados reamostrados, cada um com o mesmo tamanho da amostra original.\n",
    "3. Calcule a média de cada conjunto reamostrado e armazene essas médias em uma lista.\n",
    "\n",
    "### Passo 2: Estimativa da Média (3 pontos)\n",
    "\n",
    "1. Calcule a média da amostra original.\n",
    "2. Calcule a média das médias dos conjuntos reamostrados.\n",
    "\n",
    "### Passo 3: Cálculo do Intervalo de Confiança (4 pontos)\n",
    "\n",
    "1. Calcule o intervalo de confiança de 95% para a média usando as médias dos conjuntos reamostrados.\n",
    "2. Plote um histograma das médias reamostradas e destaque o intervalo de confiança calculado."
   ]
  },
  {
   "cell_type": "markdown",
   "id": "75288b44-b5cf-47fb-a0b9-b1b1c149b9e4",
   "metadata": {},
   "source": [
    "## Critérios de Avaliação\n",
    "\n",
    "Sua nota nesta atividade será baseada nos seguintes critérios:\n",
    "\n",
    "- Implementação correta e eficiente do Bootstrap (Passo 1).\n",
    "- Cálculo preciso da média da amostra original e das médias dos conjuntos reamostrados (Passo 2).\n",
    "- Cálculo correto do intervalo de confiança e apresentação visual apropriada (Passo 3).\n",
    "- Qualidade e clareza da interpretação dos resultados."
   ]
  },
  {
   "cell_type": "markdown",
   "id": "d31692d7-a5de-4d43-9638-dd9b7589c7fb",
   "metadata": {},
   "source": [
    "## Entrega\n",
    "\n",
    "Você deve entregar o seguinte:\n",
    "\n",
    "1. Um notebook Jupyter (.ipynb) contendo todo o código Python, os cálculos e as visualizações.\n",
    "2. O notebook deve conter uma seção com uma explicação detalhada dos resultados e interpretações."
   ]
  },
  {
   "cell_type": "markdown",
   "id": "c46015be-1f43-4584-8b1b-4d314e5d7223",
   "metadata": {},
   "source": [
    "## Observações\n",
    "\n",
    "- Certifique-se de que seu código esteja bem comentado e organizado.\n",
    "- Use a biblioteca scikit-learn para facilitar a implementação do Bootstrap.\n",
    "- Se você encontrar problemas ou tiver dúvidas, não hesite em pedir ajuda ao professor ou ao assistente. Boa sorte!"
   ]
  },
  {
   "cell_type": "code",
   "execution_count": null,
   "id": "9c8f4b88-5c61-4710-9ca9-dc5da67afd38",
   "metadata": {
    "tags": []
   },
   "outputs": [],
   "source": []
  }
 ],
 "metadata": {
  "kernelspec": {
   "display_name": "Python 3 (ipykernel)",
   "language": "python",
   "name": "python3"
  },
  "language_info": {
   "codemirror_mode": {
    "name": "ipython",
    "version": 3
   },
   "file_extension": ".py",
   "mimetype": "text/x-python",
   "name": "python",
   "nbconvert_exporter": "python",
   "pygments_lexer": "ipython3",
   "version": "3.9.13"
  }
 },
 "nbformat": 4,
 "nbformat_minor": 5
}
