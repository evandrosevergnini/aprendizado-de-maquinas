{
 "cells": [
  {
   "cell_type": "markdown",
   "id": "46fb921d-b609-4d0d-80c2-5a053a1a9d76",
   "metadata": {},
   "source": [
    "**Atividade Avaliativa: Métodos Bayesianos**\n",
    "\n",
    "**Prof. Dr. Jefferson O. Andrade**  \n",
    "**Pós-graduação em Desenvolvimento de Aplicações Inteligentes**  \n",
    "**Estatística para Aprendizado de Máquina — Aula 06**  "
   ]
  },
  {
   "cell_type": "markdown",
   "id": "ed8fb536-b88e-48ee-a53c-b8e4ecb71b60",
   "metadata": {},
   "source": [
    "**Nome:** «insera seu nome aqui»  \n",
    "**Matrícula:** «insira sua matrícula»  "
   ]
  },
  {
   "cell_type": "markdown",
   "id": "9fbcd116-7b73-4185-9738-df0ec4b8b703",
   "metadata": {},
   "source": [
    "Neste exercício, você aplicará técnicas abordadas nas aulas anteriores. O objetivo é testar seu entendimento sobre métodos Bayesianos. O resultado final deste exercício deve ser submetido na forma de um notebook Jupyter.\n",
    "\n",
    "**Instruções Gerais:**  \n",
    "\n",
    "- Garanta que você tenha instalado todas as bibliotecas necessárias para realizar este exercício.\n",
    "- Use comentários sempre que achar necessário para explicar seu código.\n",
    "- Após concluir, exporte seu notebook como `.ipynb` e submeta no AVA.\n",
    "\n",
    "**Critérios de Avaliação:**\n",
    "\n",
    "1. **Corretude do Código**: Seu código deve ser livre de erros e realizar as tarefas conforme solicitado.\n",
    "2. **Clareza e Organização**: Seu notebook deve ser apresentado de maneira clara, bem estruturada e com comentários relevantes.\n",
    "3. **Interpretação dos Resultados**: Além de realizar análises, esperamos que você interprete os resultados obtidos, fornecendo insights e conclusões pertinentes.\n",
    "\n",
    "**Dica**: Lembre-se sempre de consultar a documentação ou os materiais das aulas caso tenha dúvidas. Boa sorte e bom trabalho!"
   ]
  },
  {
   "cell_type": "markdown",
   "id": "0afff546-7b19-4019-a25d-870c3901a649",
   "metadata": {},
   "source": [
    "Olá, futuro cientista de dados! 🚀\n",
    "\n",
    "Em meio às notícias e discussões sobre eleições e política, a Justiça Eleitoral brasileira desempenha um papel crucial na garantia da legitimidade dos processos eleitorais. Uma de suas funções é lidar com denúncias e investigações relacionadas às eleições. \n",
    "\n",
    "Imagine que você precisa ajudar na criação de um modelo que classifica automaticamente as denúncias recebidas pela Justiça Eleitoral em categorias como \"propaganda eleitoral indevida\", \"compra de votos\", \"uso indevido de bens públicos\" e \"outros\".\n",
    "\n",
    "Nesta atividade, você usará o algoritmo Naive Bayes para criar esse modelo de classificação. Vamos começar!"
   ]
  },
  {
   "cell_type": "markdown",
   "id": "eefb91aa-674f-4442-bb64-aab3eb9a44fd",
   "metadata": {},
   "source": [
    "## Objetivos\n",
    "\n",
    "1. Carregar e explorar o conjunto de dados.\n",
    "2. Pré-processar os dados.\n",
    "3. Treinar o modelo Naive Bayes e testá-lo.\n",
    "4. Interpretar os resultados.\n",
    "\n",
    "## Pontuação\n",
    "\n",
    "1. Carregamento e exploração de dados: 2 pontos.\n",
    "2. Pré-processamento de dados: 3 pontos.\n",
    "3. Treinamento e teste do modelo: 3 pontos.\n",
    "4. Interpretação dos resultados: 2 pontos.\n",
    "\n",
    "Total: 10 pontos."
   ]
  },
  {
   "cell_type": "markdown",
   "id": "a0bcb070-ef84-4395-aceb-ec291b5a8c36",
   "metadata": {
    "jp-MarkdownHeadingCollapsed": true,
    "tags": []
   },
   "source": [
    "## Dados\n",
    "\n",
    "Você utilizará um conjunto de dados fictício contendo textos de denúncias e suas respectivas categorias. Cada linha representa uma denúncia, e a coluna “texto” contém a descrição da denúncia enquanto a coluna \"categoria\" tem a classificação real da denúncia.\n",
    "\n",
    "Execute o código abaixo para gerar o arquivo de dados."
   ]
  },
  {
   "cell_type": "code",
   "execution_count": null,
   "id": "8236d1ca-4b34-4788-99b5-e6d7671177ff",
   "metadata": {},
   "outputs": [],
   "source": [
    "import pandas as pd\n",
    "import random\n",
    "\n",
    "# Definindo as categorias e algumas denúncias fictícias para cada categoria\n",
    "categorias = {\n",
    "    \"propaganda eleitoral indevida\": [\n",
    "        \"Candidato fez propaganda em local proibido.\",\n",
    "        \"Veiculação de propaganda eleitoral em rádio fora do horário permitido.\",\n",
    "        \"Distribuição de brindes em evento de campanha.\",\n",
    "        \"Uso de alto-falantes após as 22h.\",\n",
    "        \"Banner de candidato em tamanho acima do permitido.\",\n",
    "        \"Propaganda eleitoral antecipada antes do período autorizado.\"\n",
    "    ],\n",
    "    \"compra de votos\": [\n",
    "        \"Ofereceram cesta básica em troca de voto.\",\n",
    "        \"Candidato ofereceu emprego para votar nele.\",\n",
    "        \"Eleitor foi abordado com oferta de dinheiro.\",\n",
    "        \"Promessa de consultas médicas em troca de voto.\",\n",
    "        \"Construção de poço artesiano em troca de apoio eleitoral.\",\n",
    "        \"Entrega de material de construção para eleitor com promessa de voto.\"\n",
    "    ],\n",
    "    \"uso indevido de bens públicos\": [\n",
    "        \"Carro da prefeitura sendo usado em campanha.\",\n",
    "        \"Funcionário público fazendo campanha em horário de trabalho.\",\n",
    "        \"Uso de escola pública para evento de candidato.\",\n",
    "        \"Reunião eleitoral em prédio público.\",\n",
    "        \"Candidato usando estrutura de hospital público em sua campanha.\",\n",
    "        \"Equipamentos públicos sendo utilizados em palanque eleitoral.\"\n",
    "    ],\n",
    "    \"outros\": [\n",
    "        \"Intimidação de eleitores por grupo armado.\",\n",
    "        \"Impedimento de distribuição de material de campanha de adversário.\",\n",
    "        \"Vandalismo de material de campanha.\",\n",
    "        \"Falsa acusação contra candidato adversário.\",\n",
    "        \"Difamação e notícias falsas sobre adversário em rede social.\",\n",
    "        \"Eleitor relatou coação por parte de empregador para votar em determinado candidato.\"\n",
    "    ]\n",
    "}\n",
    "\n",
    "# Criando o dataset\n",
    "textos = []\n",
    "categorias_lista = []\n",
    "\n",
    "for categoria, denuncias in categorias.items():\n",
    "    for denuncia in denuncias:\n",
    "        # Repetindo cada denúncia para chegar a um total de 500 registros\n",
    "        for _ in range(20):\n",
    "            textos.append(denuncia)\n",
    "            categorias_lista.append(categoria)\n",
    "\n",
    "# Adicionando alguma aleatoriedade\n",
    "data_tuples = list(zip(textos, categorias_lista))\n",
    "random.shuffle(data_tuples)\n",
    "textos, categorias_lista = zip(*data_tuples)\n",
    "\n",
    "# Convertendo para DataFrame\n",
    "df = pd.DataFrame({'texto': textos, 'categoria': categorias_lista})\n",
    "\n",
    "# Salvando em um arquivo CSV\n",
    "df.to_csv('denuncias_eleitorais.csv', index=False)"
   ]
  },
  {
   "cell_type": "markdown",
   "id": "7d4fd940-eaca-4d55-ab86-d26543bf54d1",
   "metadata": {},
   "source": [
    "**Nota**: Este é um dataset fictício para fins didáticos e não representa dados reais da Justiça Eleitoral."
   ]
  },
  {
   "cell_type": "markdown",
   "id": "adb65fff-8fbb-4378-b31c-6d0c6d07cce7",
   "metadata": {},
   "source": [
    "## Carregar e Explorar os Dados\n",
    "\n",
    "Carregue o conjunto de dados e realize uma análise exploratória inicial para entender sua estrutura.\n",
    "\n",
    "```python\n",
    "import pandas as pd\n",
    "\n",
    "# Carregar o conjunto de dados\n",
    "data = pd.read_csv('denuncias_eleitorais.csv')\n",
    "\n",
    "# Exibir as primeiras linhas do dataframe\n",
    "data.head()\n",
    "```\n"
   ]
  },
  {
   "cell_type": "markdown",
   "id": "ee916fc8-8a8d-4764-b39e-18673259310f",
   "metadata": {},
   "source": [
    "## Pré-processamento de Dados\n",
    "\n",
    "Antes de treinar nosso modelo, precisamos preparar nossos dados. Isso inclui transformar o texto das denúncias em uma forma que o algoritmo possa entender e dividir nossos dados em conjuntos de treinamento e teste.\n",
    "\n",
    "Dica: Use o `CountVectorizer` do scikit-learn para converter o texto em um formato utilizável."
   ]
  },
  {
   "cell_type": "markdown",
   "id": "d4b8763d-a49c-455f-960f-1ac6401dbee1",
   "metadata": {},
   "source": [
    "## Treinamento e Teste do Modelo\n",
    "\n",
    "Agora que nossos dados estão prontos, vamos treinar nosso classificador Naive Bayes!"
   ]
  },
  {
   "cell_type": "markdown",
   "id": "8d6d94f9-61b4-4e9a-8066-db61b6e1ab1f",
   "metadata": {},
   "source": [
    "## Interpretação dos Resultados\n",
    "\n",
    "Depois de treinar e testar seu modelo, discuta os resultados. Como seu modelo performou? Quais categorias ele classifica melhor? Há alguma categoria que ele tem mais dificuldade? Por quê?"
   ]
  },
  {
   "cell_type": "markdown",
   "id": "bc9241a0-cf3b-4884-99b5-f8c2ed1d068a",
   "metadata": {},
   "source": [
    "Lembre-se, a ciência de dados é tanto sobre a análise e interpretação quanto é sobre o código. Desejamos a você boa sorte e estamos ansiosos para ver suas descobertas!"
   ]
  },
  {
   "cell_type": "code",
   "execution_count": null,
   "id": "bcee9bb1-3486-45d9-ac2d-2026a38e03ac",
   "metadata": {},
   "outputs": [],
   "source": []
  }
 ],
 "metadata": {
  "kernelspec": {
   "display_name": "Python 3 (ipykernel)",
   "language": "python",
   "name": "python3"
  },
  "language_info": {
   "codemirror_mode": {
    "name": "ipython",
    "version": 3
   },
   "file_extension": ".py",
   "mimetype": "text/x-python",
   "name": "python",
   "nbconvert_exporter": "python",
   "pygments_lexer": "ipython3",
   "version": "3.9.13"
  }
 },
 "nbformat": 4,
 "nbformat_minor": 5
}
