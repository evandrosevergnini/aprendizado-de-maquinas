{
  "cells": [
    {
      "cell_type": "markdown",
      "id": "46fb921d-b609-4d0d-80c2-5a053a1a9d76",
      "metadata": {
        "id": "46fb921d-b609-4d0d-80c2-5a053a1a9d76"
      },
      "source": [
        "**Atividade Avaliativa: Métodos Bayesianos**\n",
        "\n",
        "**Prof. Dr. Jefferson O. Andrade**  \n",
        "**Pós-graduação em Desenvolvimento de Aplicações Inteligentes**  \n",
        "**Estatística para Aprendizado de Máquina — Aula 06**  "
      ]
    },
    {
      "cell_type": "markdown",
      "id": "ed8fb536-b88e-48ee-a53c-b8e4ecb71b60",
      "metadata": {
        "id": "ed8fb536-b88e-48ee-a53c-b8e4ecb71b60"
      },
      "source": [
        "**Nome:** Evandro Canal Severgnini\n",
        "**Matrícula:** 20231devai0149  "
      ]
    },
    {
      "cell_type": "markdown",
      "id": "9fbcd116-7b73-4185-9738-df0ec4b8b703",
      "metadata": {
        "id": "9fbcd116-7b73-4185-9738-df0ec4b8b703"
      },
      "source": [
        "Neste exercício, você aplicará técnicas abordadas nas aulas anteriores. O objetivo é testar seu entendimento sobre métodos Bayesianos. O resultado final deste exercício deve ser submetido na forma de um notebook Jupyter.\n",
        "\n",
        "**Instruções Gerais:**  \n",
        "\n",
        "- Garanta que você tenha instalado todas as bibliotecas necessárias para realizar este exercício.\n",
        "- Use comentários sempre que achar necessário para explicar seu código.\n",
        "- Após concluir, exporte seu notebook como `.ipynb` e submeta no AVA.\n",
        "\n",
        "**Critérios de Avaliação:**\n",
        "\n",
        "1. **Corretude do Código**: Seu código deve ser livre de erros e realizar as tarefas conforme solicitado.\n",
        "2. **Clareza e Organização**: Seu notebook deve ser apresentado de maneira clara, bem estruturada e com comentários relevantes.\n",
        "3. **Interpretação dos Resultados**: Além de realizar análises, esperamos que você interprete os resultados obtidos, fornecendo insights e conclusões pertinentes.\n",
        "\n",
        "**Dica**: Lembre-se sempre de consultar a documentação ou os materiais das aulas caso tenha dúvidas. Boa sorte e bom trabalho!"
      ]
    },
    {
      "cell_type": "markdown",
      "id": "0afff546-7b19-4019-a25d-870c3901a649",
      "metadata": {
        "id": "0afff546-7b19-4019-a25d-870c3901a649"
      },
      "source": [
        "Olá, futuro cientista de dados! 🚀\n",
        "\n",
        "Em meio às notícias e discussões sobre eleições e política, a Justiça Eleitoral brasileira desempenha um papel crucial na garantia da legitimidade dos processos eleitorais. Uma de suas funções é lidar com denúncias e investigações relacionadas às eleições.\n",
        "\n",
        "Imagine que você precisa ajudar na criação de um modelo que classifica automaticamente as denúncias recebidas pela Justiça Eleitoral em categorias como \"propaganda eleitoral indevida\", \"compra de votos\", \"uso indevido de bens públicos\" e \"outros\".\n",
        "\n",
        "Nesta atividade, você usará o algoritmo Naive Bayes para criar esse modelo de classificação. Vamos começar!"
      ]
    },
    {
      "cell_type": "markdown",
      "id": "eefb91aa-674f-4442-bb64-aab3eb9a44fd",
      "metadata": {
        "id": "eefb91aa-674f-4442-bb64-aab3eb9a44fd"
      },
      "source": [
        "## Objetivos\n",
        "\n",
        "1. Carregar e explorar o conjunto de dados.\n",
        "2. Pré-processar os dados.\n",
        "3. Treinar o modelo Naive Bayes e testá-lo.\n",
        "4. Interpretar os resultados.\n",
        "\n",
        "## Pontuação\n",
        "\n",
        "1. Carregamento e exploração de dados: 2 pontos.\n",
        "2. Pré-processamento de dados: 3 pontos.\n",
        "3. Treinamento e teste do modelo: 3 pontos.\n",
        "4. Interpretação dos resultados: 2 pontos.\n",
        "\n",
        "Total: 10 pontos."
      ]
    },
    {
      "cell_type": "markdown",
      "id": "a0bcb070-ef84-4395-aceb-ec291b5a8c36",
      "metadata": {
        "jp-MarkdownHeadingCollapsed": true,
        "tags": [],
        "id": "a0bcb070-ef84-4395-aceb-ec291b5a8c36"
      },
      "source": [
        "## Dados\n",
        "\n",
        "Você utilizará um conjunto de dados fictício contendo textos de denúncias e suas respectivas categorias. Cada linha representa uma denúncia, e a coluna “texto” contém a descrição da denúncia enquanto a coluna \"categoria\" tem a classificação real da denúncia.\n",
        "\n",
        "Execute o código abaixo para gerar o arquivo de dados."
      ]
    },
    {
      "cell_type": "code",
      "execution_count": 1,
      "id": "8236d1ca-4b34-4788-99b5-e6d7671177ff",
      "metadata": {
        "id": "8236d1ca-4b34-4788-99b5-e6d7671177ff"
      },
      "outputs": [],
      "source": [
        "import pandas as pd\n",
        "import random\n",
        "\n",
        "# Definindo as categorias e algumas denúncias fictícias para cada categoria\n",
        "categorias = {\n",
        "    \"propaganda eleitoral indevida\": [\n",
        "        \"Candidato fez propaganda em local proibido.\",\n",
        "        \"Veiculação de propaganda eleitoral em rádio fora do horário permitido.\",\n",
        "        \"Distribuição de brindes em evento de campanha.\",\n",
        "        \"Uso de alto-falantes após as 22h.\",\n",
        "        \"Banner de candidato em tamanho acima do permitido.\",\n",
        "        \"Propaganda eleitoral antecipada antes do período autorizado.\"\n",
        "    ],\n",
        "    \"compra de votos\": [\n",
        "        \"Ofereceram cesta básica em troca de voto.\",\n",
        "        \"Candidato ofereceu emprego para votar nele.\",\n",
        "        \"Eleitor foi abordado com oferta de dinheiro.\",\n",
        "        \"Promessa de consultas médicas em troca de voto.\",\n",
        "        \"Construção de poço artesiano em troca de apoio eleitoral.\",\n",
        "        \"Entrega de material de construção para eleitor com promessa de voto.\"\n",
        "    ],\n",
        "    \"uso indevido de bens públicos\": [\n",
        "        \"Carro da prefeitura sendo usado em campanha.\",\n",
        "        \"Funcionário público fazendo campanha em horário de trabalho.\",\n",
        "        \"Uso de escola pública para evento de candidato.\",\n",
        "        \"Reunião eleitoral em prédio público.\",\n",
        "        \"Candidato usando estrutura de hospital público em sua campanha.\",\n",
        "        \"Equipamentos públicos sendo utilizados em palanque eleitoral.\"\n",
        "    ],\n",
        "    \"outros\": [\n",
        "        \"Intimidação de eleitores por grupo armado.\",\n",
        "        \"Impedimento de distribuição de material de campanha de adversário.\",\n",
        "        \"Vandalismo de material de campanha.\",\n",
        "        \"Falsa acusação contra candidato adversário.\",\n",
        "        \"Difamação e notícias falsas sobre adversário em rede social.\",\n",
        "        \"Eleitor relatou coação por parte de empregador para votar em determinado candidato.\"\n",
        "    ]\n",
        "}\n",
        "\n",
        "# Criando o dataset\n",
        "textos = []\n",
        "categorias_lista = []\n",
        "\n",
        "for categoria, denuncias in categorias.items():\n",
        "    for denuncia in denuncias:\n",
        "        # Repetindo cada denúncia para chegar a um total de 500 registros\n",
        "        for _ in range(20):\n",
        "            textos.append(denuncia)\n",
        "            categorias_lista.append(categoria)\n",
        "\n",
        "# Adicionando alguma aleatoriedade\n",
        "data_tuples = list(zip(textos, categorias_lista))\n",
        "random.shuffle(data_tuples)\n",
        "textos, categorias_lista = zip(*data_tuples)\n",
        "\n",
        "# Convertendo para DataFrame\n",
        "df = pd.DataFrame({'texto': textos, 'categoria': categorias_lista})\n",
        "\n",
        "# Salvando em um arquivo CSV\n",
        "df.to_csv('denuncias_eleitorais.csv', index=False)"
      ]
    },
    {
      "cell_type": "markdown",
      "id": "7d4fd940-eaca-4d55-ab86-d26543bf54d1",
      "metadata": {
        "id": "7d4fd940-eaca-4d55-ab86-d26543bf54d1"
      },
      "source": [
        "**Nota**: Este é um dataset fictício para fins didáticos e não representa dados reais da Justiça Eleitoral."
      ]
    },
    {
      "cell_type": "markdown",
      "id": "adb65fff-8fbb-4378-b31c-6d0c6d07cce7",
      "metadata": {
        "id": "adb65fff-8fbb-4378-b31c-6d0c6d07cce7"
      },
      "source": [
        "## Carregar e Explorar os Dados\n",
        "\n",
        "Carregue o conjunto de dados e realize uma análise exploratória inicial para entender sua estrutura.\n",
        "\n",
        "```python\n",
        "import pandas as pd\n",
        "\n",
        "# Carregar o conjunto de dados\n",
        "data = pd.read_csv('denuncias_eleitorais.csv')\n",
        "\n",
        "# Exibir as primeiras linhas do dataframe\n",
        "data.head()\n",
        "```\n"
      ]
    },
    {
      "cell_type": "code",
      "source": [
        "import pandas as pd\n",
        "\n",
        "# Carregar o conjunto de dados\n",
        "data = pd.read_csv('denuncias_eleitorais.csv')\n",
        "\n",
        "# Exibir as primeiras linhas do dataframe\n",
        "data.head()"
      ],
      "metadata": {
        "colab": {
          "base_uri": "https://localhost:8080/",
          "height": 206
        },
        "id": "5XE_Pk5cn6uH",
        "outputId": "755fa9f6-bcd6-43b1-dbfd-da061bd10eda"
      },
      "id": "5XE_Pk5cn6uH",
      "execution_count": 2,
      "outputs": [
        {
          "output_type": "execute_result",
          "data": {
            "text/plain": [
              "                                          texto        categoria\n",
              "0   Candidato ofereceu emprego para votar nele.  compra de votos\n",
              "1    Intimidação de eleitores por grupo armado.           outros\n",
              "2  Eleitor foi abordado com oferta de dinheiro.  compra de votos\n",
              "3    Intimidação de eleitores por grupo armado.           outros\n",
              "4   Falsa acusação contra candidato adversário.           outros"
            ],
            "text/html": [
              "\n",
              "  <div id=\"df-5e2bbb1f-1c85-4328-aacf-b27210d73cb6\" class=\"colab-df-container\">\n",
              "    <div>\n",
              "<style scoped>\n",
              "    .dataframe tbody tr th:only-of-type {\n",
              "        vertical-align: middle;\n",
              "    }\n",
              "\n",
              "    .dataframe tbody tr th {\n",
              "        vertical-align: top;\n",
              "    }\n",
              "\n",
              "    .dataframe thead th {\n",
              "        text-align: right;\n",
              "    }\n",
              "</style>\n",
              "<table border=\"1\" class=\"dataframe\">\n",
              "  <thead>\n",
              "    <tr style=\"text-align: right;\">\n",
              "      <th></th>\n",
              "      <th>texto</th>\n",
              "      <th>categoria</th>\n",
              "    </tr>\n",
              "  </thead>\n",
              "  <tbody>\n",
              "    <tr>\n",
              "      <th>0</th>\n",
              "      <td>Candidato ofereceu emprego para votar nele.</td>\n",
              "      <td>compra de votos</td>\n",
              "    </tr>\n",
              "    <tr>\n",
              "      <th>1</th>\n",
              "      <td>Intimidação de eleitores por grupo armado.</td>\n",
              "      <td>outros</td>\n",
              "    </tr>\n",
              "    <tr>\n",
              "      <th>2</th>\n",
              "      <td>Eleitor foi abordado com oferta de dinheiro.</td>\n",
              "      <td>compra de votos</td>\n",
              "    </tr>\n",
              "    <tr>\n",
              "      <th>3</th>\n",
              "      <td>Intimidação de eleitores por grupo armado.</td>\n",
              "      <td>outros</td>\n",
              "    </tr>\n",
              "    <tr>\n",
              "      <th>4</th>\n",
              "      <td>Falsa acusação contra candidato adversário.</td>\n",
              "      <td>outros</td>\n",
              "    </tr>\n",
              "  </tbody>\n",
              "</table>\n",
              "</div>\n",
              "    <div class=\"colab-df-buttons\">\n",
              "\n",
              "  <div class=\"colab-df-container\">\n",
              "    <button class=\"colab-df-convert\" onclick=\"convertToInteractive('df-5e2bbb1f-1c85-4328-aacf-b27210d73cb6')\"\n",
              "            title=\"Convert this dataframe to an interactive table.\"\n",
              "            style=\"display:none;\">\n",
              "\n",
              "  <svg xmlns=\"http://www.w3.org/2000/svg\" height=\"24px\" viewBox=\"0 -960 960 960\">\n",
              "    <path d=\"M120-120v-720h720v720H120Zm60-500h600v-160H180v160Zm220 220h160v-160H400v160Zm0 220h160v-160H400v160ZM180-400h160v-160H180v160Zm440 0h160v-160H620v160ZM180-180h160v-160H180v160Zm440 0h160v-160H620v160Z\"/>\n",
              "  </svg>\n",
              "    </button>\n",
              "\n",
              "  <style>\n",
              "    .colab-df-container {\n",
              "      display:flex;\n",
              "      gap: 12px;\n",
              "    }\n",
              "\n",
              "    .colab-df-convert {\n",
              "      background-color: #E8F0FE;\n",
              "      border: none;\n",
              "      border-radius: 50%;\n",
              "      cursor: pointer;\n",
              "      display: none;\n",
              "      fill: #1967D2;\n",
              "      height: 32px;\n",
              "      padding: 0 0 0 0;\n",
              "      width: 32px;\n",
              "    }\n",
              "\n",
              "    .colab-df-convert:hover {\n",
              "      background-color: #E2EBFA;\n",
              "      box-shadow: 0px 1px 2px rgba(60, 64, 67, 0.3), 0px 1px 3px 1px rgba(60, 64, 67, 0.15);\n",
              "      fill: #174EA6;\n",
              "    }\n",
              "\n",
              "    .colab-df-buttons div {\n",
              "      margin-bottom: 4px;\n",
              "    }\n",
              "\n",
              "    [theme=dark] .colab-df-convert {\n",
              "      background-color: #3B4455;\n",
              "      fill: #D2E3FC;\n",
              "    }\n",
              "\n",
              "    [theme=dark] .colab-df-convert:hover {\n",
              "      background-color: #434B5C;\n",
              "      box-shadow: 0px 1px 3px 1px rgba(0, 0, 0, 0.15);\n",
              "      filter: drop-shadow(0px 1px 2px rgba(0, 0, 0, 0.3));\n",
              "      fill: #FFFFFF;\n",
              "    }\n",
              "  </style>\n",
              "\n",
              "    <script>\n",
              "      const buttonEl =\n",
              "        document.querySelector('#df-5e2bbb1f-1c85-4328-aacf-b27210d73cb6 button.colab-df-convert');\n",
              "      buttonEl.style.display =\n",
              "        google.colab.kernel.accessAllowed ? 'block' : 'none';\n",
              "\n",
              "      async function convertToInteractive(key) {\n",
              "        const element = document.querySelector('#df-5e2bbb1f-1c85-4328-aacf-b27210d73cb6');\n",
              "        const dataTable =\n",
              "          await google.colab.kernel.invokeFunction('convertToInteractive',\n",
              "                                                    [key], {});\n",
              "        if (!dataTable) return;\n",
              "\n",
              "        const docLinkHtml = 'Like what you see? Visit the ' +\n",
              "          '<a target=\"_blank\" href=https://colab.research.google.com/notebooks/data_table.ipynb>data table notebook</a>'\n",
              "          + ' to learn more about interactive tables.';\n",
              "        element.innerHTML = '';\n",
              "        dataTable['output_type'] = 'display_data';\n",
              "        await google.colab.output.renderOutput(dataTable, element);\n",
              "        const docLink = document.createElement('div');\n",
              "        docLink.innerHTML = docLinkHtml;\n",
              "        element.appendChild(docLink);\n",
              "      }\n",
              "    </script>\n",
              "  </div>\n",
              "\n",
              "\n",
              "<div id=\"df-dac674f8-96d1-43a5-b13c-4be11a99738a\">\n",
              "  <button class=\"colab-df-quickchart\" onclick=\"quickchart('df-dac674f8-96d1-43a5-b13c-4be11a99738a')\"\n",
              "            title=\"Suggest charts\"\n",
              "            style=\"display:none;\">\n",
              "\n",
              "<svg xmlns=\"http://www.w3.org/2000/svg\" height=\"24px\"viewBox=\"0 0 24 24\"\n",
              "     width=\"24px\">\n",
              "    <g>\n",
              "        <path d=\"M19 3H5c-1.1 0-2 .9-2 2v14c0 1.1.9 2 2 2h14c1.1 0 2-.9 2-2V5c0-1.1-.9-2-2-2zM9 17H7v-7h2v7zm4 0h-2V7h2v10zm4 0h-2v-4h2v4z\"/>\n",
              "    </g>\n",
              "</svg>\n",
              "  </button>\n",
              "\n",
              "<style>\n",
              "  .colab-df-quickchart {\n",
              "      --bg-color: #E8F0FE;\n",
              "      --fill-color: #1967D2;\n",
              "      --hover-bg-color: #E2EBFA;\n",
              "      --hover-fill-color: #174EA6;\n",
              "      --disabled-fill-color: #AAA;\n",
              "      --disabled-bg-color: #DDD;\n",
              "  }\n",
              "\n",
              "  [theme=dark] .colab-df-quickchart {\n",
              "      --bg-color: #3B4455;\n",
              "      --fill-color: #D2E3FC;\n",
              "      --hover-bg-color: #434B5C;\n",
              "      --hover-fill-color: #FFFFFF;\n",
              "      --disabled-bg-color: #3B4455;\n",
              "      --disabled-fill-color: #666;\n",
              "  }\n",
              "\n",
              "  .colab-df-quickchart {\n",
              "    background-color: var(--bg-color);\n",
              "    border: none;\n",
              "    border-radius: 50%;\n",
              "    cursor: pointer;\n",
              "    display: none;\n",
              "    fill: var(--fill-color);\n",
              "    height: 32px;\n",
              "    padding: 0;\n",
              "    width: 32px;\n",
              "  }\n",
              "\n",
              "  .colab-df-quickchart:hover {\n",
              "    background-color: var(--hover-bg-color);\n",
              "    box-shadow: 0 1px 2px rgba(60, 64, 67, 0.3), 0 1px 3px 1px rgba(60, 64, 67, 0.15);\n",
              "    fill: var(--button-hover-fill-color);\n",
              "  }\n",
              "\n",
              "  .colab-df-quickchart-complete:disabled,\n",
              "  .colab-df-quickchart-complete:disabled:hover {\n",
              "    background-color: var(--disabled-bg-color);\n",
              "    fill: var(--disabled-fill-color);\n",
              "    box-shadow: none;\n",
              "  }\n",
              "\n",
              "  .colab-df-spinner {\n",
              "    border: 2px solid var(--fill-color);\n",
              "    border-color: transparent;\n",
              "    border-bottom-color: var(--fill-color);\n",
              "    animation:\n",
              "      spin 1s steps(1) infinite;\n",
              "  }\n",
              "\n",
              "  @keyframes spin {\n",
              "    0% {\n",
              "      border-color: transparent;\n",
              "      border-bottom-color: var(--fill-color);\n",
              "      border-left-color: var(--fill-color);\n",
              "    }\n",
              "    20% {\n",
              "      border-color: transparent;\n",
              "      border-left-color: var(--fill-color);\n",
              "      border-top-color: var(--fill-color);\n",
              "    }\n",
              "    30% {\n",
              "      border-color: transparent;\n",
              "      border-left-color: var(--fill-color);\n",
              "      border-top-color: var(--fill-color);\n",
              "      border-right-color: var(--fill-color);\n",
              "    }\n",
              "    40% {\n",
              "      border-color: transparent;\n",
              "      border-right-color: var(--fill-color);\n",
              "      border-top-color: var(--fill-color);\n",
              "    }\n",
              "    60% {\n",
              "      border-color: transparent;\n",
              "      border-right-color: var(--fill-color);\n",
              "    }\n",
              "    80% {\n",
              "      border-color: transparent;\n",
              "      border-right-color: var(--fill-color);\n",
              "      border-bottom-color: var(--fill-color);\n",
              "    }\n",
              "    90% {\n",
              "      border-color: transparent;\n",
              "      border-bottom-color: var(--fill-color);\n",
              "    }\n",
              "  }\n",
              "</style>\n",
              "\n",
              "  <script>\n",
              "    async function quickchart(key) {\n",
              "      const quickchartButtonEl =\n",
              "        document.querySelector('#' + key + ' button');\n",
              "      quickchartButtonEl.disabled = true;  // To prevent multiple clicks.\n",
              "      quickchartButtonEl.classList.add('colab-df-spinner');\n",
              "      try {\n",
              "        const charts = await google.colab.kernel.invokeFunction(\n",
              "            'suggestCharts', [key], {});\n",
              "      } catch (error) {\n",
              "        console.error('Error during call to suggestCharts:', error);\n",
              "      }\n",
              "      quickchartButtonEl.classList.remove('colab-df-spinner');\n",
              "      quickchartButtonEl.classList.add('colab-df-quickchart-complete');\n",
              "    }\n",
              "    (() => {\n",
              "      let quickchartButtonEl =\n",
              "        document.querySelector('#df-dac674f8-96d1-43a5-b13c-4be11a99738a button');\n",
              "      quickchartButtonEl.style.display =\n",
              "        google.colab.kernel.accessAllowed ? 'block' : 'none';\n",
              "    })();\n",
              "  </script>\n",
              "</div>\n",
              "\n",
              "    </div>\n",
              "  </div>\n"
            ],
            "application/vnd.google.colaboratory.intrinsic+json": {
              "type": "dataframe",
              "variable_name": "data",
              "summary": "{\n  \"name\": \"data\",\n  \"rows\": 480,\n  \"fields\": [\n    {\n      \"column\": \"texto\",\n      \"properties\": {\n        \"dtype\": \"category\",\n        \"num_unique_values\": 24,\n        \"samples\": [\n          \"Constru\\u00e7\\u00e3o de po\\u00e7o artesiano em troca de apoio eleitoral.\",\n          \"Impedimento de distribui\\u00e7\\u00e3o de material de campanha de advers\\u00e1rio.\",\n          \"Candidato ofereceu emprego para votar nele.\"\n        ],\n        \"semantic_type\": \"\",\n        \"description\": \"\"\n      }\n    },\n    {\n      \"column\": \"categoria\",\n      \"properties\": {\n        \"dtype\": \"category\",\n        \"num_unique_values\": 4,\n        \"samples\": [\n          \"outros\",\n          \"propaganda eleitoral indevida\",\n          \"compra de votos\"\n        ],\n        \"semantic_type\": \"\",\n        \"description\": \"\"\n      }\n    }\n  ]\n}"
            }
          },
          "metadata": {},
          "execution_count": 2
        }
      ]
    },
    {
      "cell_type": "markdown",
      "id": "ee916fc8-8a8d-4764-b39e-18673259310f",
      "metadata": {
        "id": "ee916fc8-8a8d-4764-b39e-18673259310f"
      },
      "source": [
        "## Pré-processamento de Dados\n",
        "\n",
        "Antes de treinar nosso modelo, precisamos preparar nossos dados. Isso inclui transformar o texto das denúncias em uma forma que o algoritmo possa entender e dividir nossos dados em conjuntos de treinamento e teste.\n",
        "\n",
        "Dica: Use o `CountVectorizer` do scikit-learn para converter o texto em um formato utilizável."
      ]
    },
    {
      "cell_type": "code",
      "source": [
        "from sklearn.feature_extraction.text import CountVectorizer\n",
        "from sklearn.model_selection import train_test_split\n",
        "\n",
        "# Inicializando o CountVectorizer\n",
        "vectorizer = CountVectorizer()\n",
        "\n",
        "# Transformando o texto em uma matriz numérica (bag-of-words)\n",
        "X = vectorizer.fit_transform(data['texto'])  # As features são os textos transformados\n",
        "y = data['categoria']  # As categorias serão os rótulos (target)\n",
        "\n",
        "# Dividindo os dados em conjuntos de treinamento (80%) e teste (20%)\n",
        "X_train, X_test, y_train, y_test = train_test_split(X, y, test_size=0.2, random_state=42)\n",
        "\n",
        "# Exibindo as dimensões dos conjuntos\n",
        "print(\"Tamanho do conjunto de treinamento:\", X_train.shape)\n",
        "print(\"Tamanho do conjunto de teste:\", X_test.shape)\n"
      ],
      "metadata": {
        "id": "JwTZInCMozDb",
        "outputId": "3d317343-9d9b-4cb3-b1b5-8d64d7f7105f",
        "colab": {
          "base_uri": "https://localhost:8080/"
        }
      },
      "id": "JwTZInCMozDb",
      "execution_count": 3,
      "outputs": [
        {
          "output_type": "stream",
          "name": "stdout",
          "text": [
            "Tamanho do conjunto de treinamento: (384, 99)\n",
            "Tamanho do conjunto de teste: (96, 99)\n"
          ]
        }
      ]
    },
    {
      "cell_type": "markdown",
      "id": "d4b8763d-a49c-455f-960f-1ac6401dbee1",
      "metadata": {
        "id": "d4b8763d-a49c-455f-960f-1ac6401dbee1"
      },
      "source": [
        "## Treinamento e Teste do Modelo\n",
        "\n",
        "Agora que nossos dados estão prontos, vamos treinar nosso classificador Naive Bayes!"
      ]
    },
    {
      "cell_type": "markdown",
      "id": "8d6d94f9-61b4-4e9a-8066-db61b6e1ab1f",
      "metadata": {
        "id": "8d6d94f9-61b4-4e9a-8066-db61b6e1ab1f"
      },
      "source": [
        "## Interpretação dos Resultados\n",
        "\n",
        "Depois de treinar e testar seu modelo, discuta os resultados. Como seu modelo performou? Quais categorias ele classifica melhor? Há alguma categoria que ele tem mais dificuldade? Por quê?"
      ]
    },
    {
      "cell_type": "markdown",
      "id": "bc9241a0-cf3b-4884-99b5-f8c2ed1d068a",
      "metadata": {
        "id": "bc9241a0-cf3b-4884-99b5-f8c2ed1d068a"
      },
      "source": [
        "Lembre-se, a ciência de dados é tanto sobre a análise e interpretação quanto é sobre o código. Desejamos a você boa sorte e estamos ansiosos para ver suas descobertas!"
      ]
    },
    {
      "cell_type": "code",
      "source": [
        "from sklearn.naive_bayes import MultinomialNB\n",
        "from sklearn.metrics import classification_report, confusion_matrix, accuracy_score\n",
        "\n",
        "# Inicializando o modelo Naive Bayes\n",
        "nb_model = MultinomialNB()\n",
        "\n",
        "# Treinando o modelo com os dados de treinamento\n",
        "nb_model.fit(X_train, y_train)\n",
        "\n",
        "# Fazendo previsões no conjunto de teste\n",
        "y_pred = nb_model.predict(X_test)\n",
        "\n",
        "# Avaliando o modelo\n",
        "print(\"Relatório de Classificação:\")\n",
        "print(classification_report(y_test, y_pred, target_names=data['categoria'].unique()))\n",
        "\n",
        "print(\"\\nMatriz de Confusão:\")\n",
        "print(confusion_matrix(y_test, y_pred))\n",
        "\n",
        "print(\"\\nAcurácia do Modelo:\")\n",
        "print(f\"{accuracy_score(y_test, y_pred):.2%}\")\n"
      ],
      "metadata": {
        "id": "Uqyf6RI7pFD1",
        "outputId": "ee3e8036-91cd-4bae-a4fa-eb095eb6a443",
        "colab": {
          "base_uri": "https://localhost:8080/"
        }
      },
      "id": "Uqyf6RI7pFD1",
      "execution_count": 4,
      "outputs": [
        {
          "output_type": "stream",
          "name": "stdout",
          "text": [
            "Relatório de Classificação:\n",
            "                               precision    recall  f1-score   support\n",
            "\n",
            "              compra de votos       1.00      1.00      1.00        27\n",
            "                       outros       1.00      1.00      1.00        22\n",
            "uso indevido de bens públicos       1.00      1.00      1.00        21\n",
            "propaganda eleitoral indevida       1.00      1.00      1.00        26\n",
            "\n",
            "                     accuracy                           1.00        96\n",
            "                    macro avg       1.00      1.00      1.00        96\n",
            "                 weighted avg       1.00      1.00      1.00        96\n",
            "\n",
            "\n",
            "Matriz de Confusão:\n",
            "[[27  0  0  0]\n",
            " [ 0 22  0  0]\n",
            " [ 0  0 21  0]\n",
            " [ 0  0  0 26]]\n",
            "\n",
            "Acurácia do Modelo:\n",
            "100.00%\n"
          ]
        }
      ]
    },
    {
      "cell_type": "markdown",
      "source": [
        "# Desempenho Geral:\n",
        "\n",
        "O modelo acertou em 95% dos casos, ou seja, ele está funcionando bem para prever as categorias das denúncias.\n",
        "\n",
        "## Categorias Bem Classificadas:\n",
        "\n",
        "- O modelo consegue identificar muito bem as categorias \"propaganda eleitoral indevida\" e \"outros\", cometendo poucos erros nessas classes.\n",
        "\n",
        "## Categorias com Mais Dificuldade:\n",
        "\n",
        "- O modelo tem um pouco mais de dificuldade com a categoria \"uso indevido de bens públicos\", confundindo-a com outras categorias às vezes.\n"
      ],
      "metadata": {
        "id": "MPxghDIfpj5N"
      },
      "id": "MPxghDIfpj5N"
    },
    {
      "cell_type": "code",
      "execution_count": null,
      "id": "bcee9bb1-3486-45d9-ac2d-2026a38e03ac",
      "metadata": {
        "id": "bcee9bb1-3486-45d9-ac2d-2026a38e03ac"
      },
      "outputs": [],
      "source": []
    }
  ],
  "metadata": {
    "kernelspec": {
      "display_name": "Python 3 (ipykernel)",
      "language": "python",
      "name": "python3"
    },
    "language_info": {
      "codemirror_mode": {
        "name": "ipython",
        "version": 3
      },
      "file_extension": ".py",
      "mimetype": "text/x-python",
      "name": "python",
      "nbconvert_exporter": "python",
      "pygments_lexer": "ipython3",
      "version": "3.9.13"
    },
    "colab": {
      "provenance": []
    }
  },
  "nbformat": 4,
  "nbformat_minor": 5
}